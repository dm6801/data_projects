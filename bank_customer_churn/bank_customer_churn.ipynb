{
 "cells": [
  {
   "cell_type": "code",
   "execution_count": 1,
   "id": "5ef61977",
   "metadata": {},
   "outputs": [],
   "source": [
    "!pip install -q --user --upgrade pandas matplotlib seaborn sklearn scikit-learn"
   ]
  },
  {
   "cell_type": "code",
   "execution_count": 2,
   "id": "d5205de0",
   "metadata": {},
   "outputs": [],
   "source": [
    "import os, warnings\n",
    "import pandas as pd\n",
    "import numpy as np\n",
    "import matplotlib.pyplot as plt\n",
    "import seaborn as sns\n",
    "from IPython.display import display, Markdown\n",
    "from time import perf_counter as timer\n",
    "from pprint import pprint\n",
    "from sklearn.model_selection import train_test_split, GridSearchCV, KFold, StratifiedKFold\n",
    "from sklearn.preprocessing import StandardScaler, OneHotEncoder, OrdinalEncoder, LabelEncoder\n",
    "from sklearn.utils import shuffle\n",
    "from sklearn.metrics import get_scorer, make_scorer, f1_score, matthews_corrcoef\n",
    "from sklearn.metrics import confusion_matrix, roc_curve\n",
    "from sklearn.dummy import DummyClassifier\n",
    "from sklearn.linear_model import LogisticRegression\n",
    "from sklearn.tree import DecisionTreeClassifier\n",
    "from sklearn.ensemble import RandomForestClassifier, GradientBoostingClassifier\n",
    "from sklearn.svm import SVC\n",
    "\n",
    "from sklearn.experimental import enable_halving_search_cv  \n",
    "from sklearn.model_selection import HalvingRandomSearchCV"
   ]
  },
  {
   "cell_type": "code",
   "execution_count": 3,
   "id": "01bc3da5",
   "metadata": {},
   "outputs": [],
   "source": [
    "pd.options.mode.chained_assignment = None\n",
    "plt.rcParams[\"figure.figsize\"] = (13, 7)"
   ]
  },
  {
   "cell_type": "code",
   "execution_count": 4,
   "id": "04be8369",
   "metadata": {},
   "outputs": [],
   "source": [
    "random_state = 123"
   ]
  },
  {
   "cell_type": "markdown",
   "id": "f9bb834b",
   "metadata": {},
   "source": [
    "# Customers churn classification\n",
    "#### \\- comissioned by: Beta Bank\n",
    "***\n",
    "\n",
    "Each month, customers are leaving the bank, little by little.  \n",
    "We need to predict whether a customer is likely to leave,  \n",
    "to be able to further apply target marketing and attempt to preserve those customers.\n",
    "\n",
    "\\* target metric for this exercise: F1 score >= 0.59"
   ]
  },
  {
   "cell_type": "markdown",
   "id": "a941bcb8",
   "metadata": {},
   "source": [
    "<br>\n",
    "\n",
    "## Table of Contents\n",
    "- [Utility functions](#Utility-functions)\n",
    "- [Load dataset](#Load-dataset)\n",
    "    - [Optimize dataframe](#Optimize-dataframe)\n",
    "    - [Split data](#Split-data)\n",
    "- [Preprocessing](#Preprocessing)\n",
    "    - [Analysis of features by type](#Analysis-of-features-by-type)\n",
    "    - [Missing values](#Missing-values)\n",
    "    - [Outliers](#Outliers)\n",
    "    - [Standardization](#Standardization)\n",
    "    - [Categorical encoding](#Categorical-encoding)\n",
    "    - [Target class](#Target-class)\n",
    "- [Models](#Models)\n",
    "    - [Dummy model](#Dummy-model)\n",
    "    - [Model metrics - imbalanced data](#Model-metrics---imbalanced-data)\n",
    "    - [Hyperparameters tuning](#Hyperparameters-tuning)\n",
    "    - [Model testing](#Model-testing)\n",
    "    - [Best model test scores](#Best-model-test-scores)\n",
    "- [Conclusions](#Conclusions)"
   ]
  },
  {
   "cell_type": "markdown",
   "id": "779db28f",
   "metadata": {},
   "source": [
    "<br>\n",
    "\n",
    "### Utility functions\n",
    "***\n",
    "[back](#Table-of-Contents)"
   ]
  },
  {
   "cell_type": "code",
   "execution_count": 5,
   "id": "cc8a62e8",
   "metadata": {},
   "outputs": [],
   "source": [
    "def find_file(filename):\n",
    "    \"\"\"Returns file path under /datasets directory, if exists, otherwise uses local dir\"\"\"\n",
    "    \n",
    "    filepath = f'/datasets/{filename}'\n",
    "    if not os.path.isfile(filepath):\n",
    "        filepath = filename\n",
    "        \n",
    "    return filepath\n",
    "\n",
    "# find_file(filename)"
   ]
  },
  {
   "cell_type": "code",
   "execution_count": 6,
   "id": "8130fd8e",
   "metadata": {},
   "outputs": [],
   "source": [
    "def hide_warnings(func):\n",
    "    \"\"\"Hide warnings\"\"\"\n",
    "    \n",
    "    def wrapper(*args, **kwargs):\n",
    "        with warnings.catch_warnings():\n",
    "            warnings.simplefilter('ignore')\n",
    "            \n",
    "            return func(*args, **kwargs)\n",
    "        \n",
    "    return wrapper\n",
    "\n",
    "# warnings.warn('warning')\n",
    "# hide_warnings(lambda:warnings.warn('hidden'))()"
   ]
  },
  {
   "cell_type": "code",
   "execution_count": 7,
   "id": "dd3bff15",
   "metadata": {},
   "outputs": [],
   "source": [
    "# PEP616 -- String methods to remove prefixes and suffixes\n",
    "# https://www.python.org/dev/peps/pep-0616/\n",
    "\n",
    "def removesuffix(self, suffix):\n",
    "    # suffix='' should not call self[:-0].\n",
    "    if suffix and self.endswith(suffix):\n",
    "        return self[:-len(suffix)]\n",
    "    else:\n",
    "        return self[:]\n",
    "    \n",
    "# removesuffix('abc', 'c')"
   ]
  },
  {
   "cell_type": "code",
   "execution_count": 8,
   "id": "9c66c93b",
   "metadata": {},
   "outputs": [],
   "source": [
    "def time_wrap(func):\n",
    "    \"\"\"Measures execution time\"\"\"\n",
    "    \n",
    "    def wrapper(*args, **kwargs):\n",
    "        start = timer()\n",
    "        out = func(*args, **kwargs)\n",
    "        return timer()-start, out\n",
    "        \n",
    "    return wrapper\n",
    "\n",
    "# time_wrap(lambda x:(x+1,x+2))(2)"
   ]
  },
  {
   "cell_type": "markdown",
   "id": "5428bc52",
   "metadata": {},
   "source": [
    "<br>\n",
    "\n",
    "## Load dataset\n",
    "***\n",
    "[back](#Table-of-Contents)\n",
    "\n",
    "- [Optimize dataframe](#Optimize-dataframe)\n",
    "- [Split data](#Split-data)"
   ]
  },
  {
   "cell_type": "markdown",
   "id": "d50abda1",
   "metadata": {},
   "source": [
    "Features\n",
    "\n",
    "    RowNumber — data string index\n",
    "    CustomerId — unique customer identifier\n",
    "    Surname — surname\n",
    "    CreditScore — credit score\n",
    "    Geography — country of residence\n",
    "    Gender — gender\n",
    "    Age — age\n",
    "    Tenure — period of maturation for a customer’s fixed deposit (years)\n",
    "    Balance — account balance\n",
    "    NumOfProducts — number of banking products used by the customer\n",
    "    HasCrCard — customer has a credit card\n",
    "    IsActiveMember — customer’s activeness\n",
    "    EstimatedSalary — estimated salary\n",
    "\n",
    "Target\n",
    "\n",
    "    Exited — сustomer has left"
   ]
  },
  {
   "cell_type": "code",
   "execution_count": 9,
   "id": "968a836f",
   "metadata": {},
   "outputs": [],
   "source": [
    "filename = 'Churn.csv'"
   ]
  },
  {
   "cell_type": "code",
   "execution_count": 10,
   "id": "f51a6fd3",
   "metadata": {},
   "outputs": [],
   "source": [
    "def preview(filename, n=2):\n",
    "    \"\"\"Prints file's metadata, and first n lines\"\"\"\n",
    "    \n",
    "    !file \"$filename\"\n",
    "    \n",
    "    size = !du -h \"$filename\"\n",
    "    size = size[0].split()[0]\n",
    "    \n",
    "    lines = !wc -l \"$filename\"\n",
    "    lines = lines[0].split()[0]\n",
    "    \n",
    "    info = {'size': size, 'lines': lines}\n",
    "    print('\\n'.join(f'{k:<{len(filename)+2}}{v}' for k,v in info.items()))\n",
    "    print()\n",
    "    !head -n\"$n\" \"$filename\"\n",
    "    \n",
    "# preview(filename)"
   ]
  },
  {
   "cell_type": "code",
   "execution_count": 11,
   "id": "420eaf83",
   "metadata": {},
   "outputs": [],
   "source": [
    "filename = find_file(filename)"
   ]
  },
  {
   "cell_type": "code",
   "execution_count": 12,
   "id": "6878666f",
   "metadata": {},
   "outputs": [
    {
     "name": "stdout",
     "output_type": "stream",
     "text": [
      "Churn.csv: ASCII text, with CRLF line terminators\n",
      "size       696K\n",
      "lines      10001\n",
      "\n",
      "RowNumber,CustomerId,Surname,CreditScore,Geography,Gender,Age,Tenure,Balance,NumOfProducts,HasCrCard,IsActiveMember,EstimatedSalary,Exited\n",
      "1,15634602,Hargrave,619,France,Female,42,2.0,0.0,1,1,1,101348.88,1\n"
     ]
    }
   ],
   "source": [
    "preview(filename)"
   ]
  },
  {
   "cell_type": "code",
   "execution_count": 13,
   "id": "f2069122",
   "metadata": {},
   "outputs": [],
   "source": [
    "df = pd.read_csv(filename)"
   ]
  },
  {
   "cell_type": "code",
   "execution_count": 14,
   "id": "1ca906c1",
   "metadata": {},
   "outputs": [
    {
     "data": {
      "text/html": [
       "<div>\n",
       "<style scoped>\n",
       "    .dataframe tbody tr th:only-of-type {\n",
       "        vertical-align: middle;\n",
       "    }\n",
       "\n",
       "    .dataframe tbody tr th {\n",
       "        vertical-align: top;\n",
       "    }\n",
       "\n",
       "    .dataframe thead th {\n",
       "        text-align: right;\n",
       "    }\n",
       "</style>\n",
       "<table border=\"1\" class=\"dataframe\">\n",
       "  <thead>\n",
       "    <tr style=\"text-align: right;\">\n",
       "      <th></th>\n",
       "      <th>RowNumber</th>\n",
       "      <th>CustomerId</th>\n",
       "      <th>Surname</th>\n",
       "      <th>CreditScore</th>\n",
       "      <th>Geography</th>\n",
       "      <th>Gender</th>\n",
       "      <th>Age</th>\n",
       "      <th>Tenure</th>\n",
       "      <th>Balance</th>\n",
       "      <th>NumOfProducts</th>\n",
       "      <th>HasCrCard</th>\n",
       "      <th>IsActiveMember</th>\n",
       "      <th>EstimatedSalary</th>\n",
       "      <th>Exited</th>\n",
       "    </tr>\n",
       "  </thead>\n",
       "  <tbody>\n",
       "    <tr>\n",
       "      <th>0</th>\n",
       "      <td>1</td>\n",
       "      <td>15634602</td>\n",
       "      <td>Hargrave</td>\n",
       "      <td>619</td>\n",
       "      <td>France</td>\n",
       "      <td>Female</td>\n",
       "      <td>42</td>\n",
       "      <td>2.0</td>\n",
       "      <td>0.00</td>\n",
       "      <td>1</td>\n",
       "      <td>1</td>\n",
       "      <td>1</td>\n",
       "      <td>101348.88</td>\n",
       "      <td>1</td>\n",
       "    </tr>\n",
       "    <tr>\n",
       "      <th>1</th>\n",
       "      <td>2</td>\n",
       "      <td>15647311</td>\n",
       "      <td>Hill</td>\n",
       "      <td>608</td>\n",
       "      <td>Spain</td>\n",
       "      <td>Female</td>\n",
       "      <td>41</td>\n",
       "      <td>1.0</td>\n",
       "      <td>83807.86</td>\n",
       "      <td>1</td>\n",
       "      <td>0</td>\n",
       "      <td>1</td>\n",
       "      <td>112542.58</td>\n",
       "      <td>0</td>\n",
       "    </tr>\n",
       "    <tr>\n",
       "      <th>2</th>\n",
       "      <td>3</td>\n",
       "      <td>15619304</td>\n",
       "      <td>Onio</td>\n",
       "      <td>502</td>\n",
       "      <td>France</td>\n",
       "      <td>Female</td>\n",
       "      <td>42</td>\n",
       "      <td>8.0</td>\n",
       "      <td>159660.80</td>\n",
       "      <td>3</td>\n",
       "      <td>1</td>\n",
       "      <td>0</td>\n",
       "      <td>113931.57</td>\n",
       "      <td>1</td>\n",
       "    </tr>\n",
       "    <tr>\n",
       "      <th>3</th>\n",
       "      <td>4</td>\n",
       "      <td>15701354</td>\n",
       "      <td>Boni</td>\n",
       "      <td>699</td>\n",
       "      <td>France</td>\n",
       "      <td>Female</td>\n",
       "      <td>39</td>\n",
       "      <td>1.0</td>\n",
       "      <td>0.00</td>\n",
       "      <td>2</td>\n",
       "      <td>0</td>\n",
       "      <td>0</td>\n",
       "      <td>93826.63</td>\n",
       "      <td>0</td>\n",
       "    </tr>\n",
       "    <tr>\n",
       "      <th>4</th>\n",
       "      <td>5</td>\n",
       "      <td>15737888</td>\n",
       "      <td>Mitchell</td>\n",
       "      <td>850</td>\n",
       "      <td>Spain</td>\n",
       "      <td>Female</td>\n",
       "      <td>43</td>\n",
       "      <td>2.0</td>\n",
       "      <td>125510.82</td>\n",
       "      <td>1</td>\n",
       "      <td>1</td>\n",
       "      <td>1</td>\n",
       "      <td>79084.10</td>\n",
       "      <td>0</td>\n",
       "    </tr>\n",
       "  </tbody>\n",
       "</table>\n",
       "</div>"
      ],
      "text/plain": [
       "   RowNumber  CustomerId   Surname  CreditScore Geography  Gender  Age  \\\n",
       "0          1    15634602  Hargrave          619    France  Female   42   \n",
       "1          2    15647311      Hill          608     Spain  Female   41   \n",
       "2          3    15619304      Onio          502    France  Female   42   \n",
       "3          4    15701354      Boni          699    France  Female   39   \n",
       "4          5    15737888  Mitchell          850     Spain  Female   43   \n",
       "\n",
       "   Tenure    Balance  NumOfProducts  HasCrCard  IsActiveMember  \\\n",
       "0     2.0       0.00              1          1               1   \n",
       "1     1.0   83807.86              1          0               1   \n",
       "2     8.0  159660.80              3          1               0   \n",
       "3     1.0       0.00              2          0               0   \n",
       "4     2.0  125510.82              1          1               1   \n",
       "\n",
       "   EstimatedSalary  Exited  \n",
       "0        101348.88       1  \n",
       "1        112542.58       0  \n",
       "2        113931.57       1  \n",
       "3         93826.63       0  \n",
       "4         79084.10       0  "
      ]
     },
     "execution_count": 14,
     "metadata": {},
     "output_type": "execute_result"
    }
   ],
   "source": [
    "df.head()"
   ]
  },
  {
   "cell_type": "code",
   "execution_count": 15,
   "id": "798c344b",
   "metadata": {},
   "outputs": [
    {
     "data": {
      "text/plain": [
       "(10000, 14)"
      ]
     },
     "execution_count": 15,
     "metadata": {},
     "output_type": "execute_result"
    }
   ],
   "source": [
    "df.shape"
   ]
  },
  {
   "cell_type": "code",
   "execution_count": 16,
   "id": "6fd34313",
   "metadata": {},
   "outputs": [
    {
     "name": "stdout",
     "output_type": "stream",
     "text": [
      "<class 'pandas.core.frame.DataFrame'>\n",
      "RangeIndex: 10000 entries, 0 to 9999\n",
      "Data columns (total 14 columns):\n",
      " #   Column           Non-Null Count  Dtype  \n",
      "---  ------           --------------  -----  \n",
      " 0   RowNumber        10000 non-null  int64  \n",
      " 1   CustomerId       10000 non-null  int64  \n",
      " 2   Surname          10000 non-null  object \n",
      " 3   CreditScore      10000 non-null  int64  \n",
      " 4   Geography        10000 non-null  object \n",
      " 5   Gender           10000 non-null  object \n",
      " 6   Age              10000 non-null  int64  \n",
      " 7   Tenure           9091 non-null   float64\n",
      " 8   Balance          10000 non-null  float64\n",
      " 9   NumOfProducts    10000 non-null  int64  \n",
      " 10  HasCrCard        10000 non-null  int64  \n",
      " 11  IsActiveMember   10000 non-null  int64  \n",
      " 12  EstimatedSalary  10000 non-null  float64\n",
      " 13  Exited           10000 non-null  int64  \n",
      "dtypes: float64(3), int64(8), object(3)\n",
      "memory usage: 2.6 MB\n"
     ]
    }
   ],
   "source": [
    "df.info(memory_usage='deep')"
   ]
  },
  {
   "cell_type": "markdown",
   "id": "ec6947e3",
   "metadata": {},
   "source": [
    "### Optimize dataframe\n",
    "[up](#Load-dataset)"
   ]
  },
  {
   "cell_type": "code",
   "execution_count": 17,
   "id": "563c4445",
   "metadata": {},
   "outputs": [],
   "source": [
    "def optimize_dtypes(df):\n",
    "    \"\"\"Downcast numeric dtypes\"\"\"\n",
    "    \n",
    "    return pd.concat([\n",
    "        df.select_dtypes('integer').apply(lambda x:pd.to_numeric(x, downcast='signed')),\n",
    "        df.select_dtypes('float').apply(lambda x:pd.to_numeric(x, downcast='float')),\n",
    "        df.select_dtypes('object')\n",
    "    ], axis=1).reindex(df.columns, axis=1)\n",
    "\n",
    "# optimize_dtypes(df).info(memory_usage='deep')\n",
    "# optimize_dtypes(df).head()\n",
    "# df[optimize_dtypes(df) != df]"
   ]
  },
  {
   "cell_type": "code",
   "execution_count": 18,
   "id": "7e67077e",
   "metadata": {},
   "outputs": [],
   "source": [
    "df_original = df"
   ]
  },
  {
   "cell_type": "markdown",
   "id": "9aaab2d4",
   "metadata": {},
   "source": [
    "'RowNumber', 'CustomerId' and 'Surname' are for identification purposes - unnecessary for our classification task."
   ]
  },
  {
   "cell_type": "code",
   "execution_count": 19,
   "id": "0f535f65",
   "metadata": {},
   "outputs": [],
   "source": [
    "df = df.drop(['RowNumber', 'CustomerId', 'Surname'], axis=1)"
   ]
  },
  {
   "cell_type": "code",
   "execution_count": 20,
   "id": "a1cac831",
   "metadata": {},
   "outputs": [],
   "source": [
    "df = optimize_dtypes(df)"
   ]
  },
  {
   "cell_type": "code",
   "execution_count": 21,
   "id": "9cb08448",
   "metadata": {},
   "outputs": [
    {
     "name": "stdout",
     "output_type": "stream",
     "text": [
      "<class 'pandas.core.frame.DataFrame'>\n",
      "RangeIndex: 10000 entries, 0 to 9999\n",
      "Data columns (total 11 columns):\n",
      " #   Column           Non-Null Count  Dtype  \n",
      "---  ------           --------------  -----  \n",
      " 0   CreditScore      10000 non-null  int16  \n",
      " 1   Geography        10000 non-null  object \n",
      " 2   Gender           10000 non-null  object \n",
      " 3   Age              10000 non-null  int8   \n",
      " 4   Tenure           9091 non-null   float32\n",
      " 5   Balance          10000 non-null  float32\n",
      " 6   NumOfProducts    10000 non-null  int8   \n",
      " 7   HasCrCard        10000 non-null  int8   \n",
      " 8   IsActiveMember   10000 non-null  int8   \n",
      " 9   EstimatedSalary  10000 non-null  float32\n",
      " 10  Exited           10000 non-null  int8   \n",
      "dtypes: float32(3), int16(1), int8(5), object(2)\n",
      "memory usage: 1.4 MB\n"
     ]
    }
   ],
   "source": [
    "df.info(memory_usage='deep')"
   ]
  },
  {
   "cell_type": "markdown",
   "id": "ac3bf502",
   "metadata": {},
   "source": [
    "### Split data\n",
    "[up](#Load-dataset)\n",
    "\n",
    "We will split our data into 3 parts:  \n",
    "training set, validation set, and test set.  \n",
    "training will be used to fit the models, validation to tinker with parameters, and test for the final verdict.\n",
    "\n",
    "Using stratify=target to make sure the target class ratio is kept the same between the different sets."
   ]
  },
  {
   "cell_type": "code",
   "execution_count": 22,
   "id": "98e7b4c7",
   "metadata": {},
   "outputs": [],
   "source": [
    "target = df['Exited']\n",
    "features = df.drop('Exited', axis=1)"
   ]
  },
  {
   "cell_type": "code",
   "execution_count": 23,
   "id": "cd5257c7",
   "metadata": {},
   "outputs": [],
   "source": [
    "X_train, X_test, y_train, y_test = train_test_split(features, target,\n",
    "                                                    test_size=0.2,\n",
    "                                                    stratify=target,\n",
    "                                                    random_state=random_state)"
   ]
  },
  {
   "cell_type": "code",
   "execution_count": 24,
   "id": "81061753",
   "metadata": {},
   "outputs": [],
   "source": [
    "X_train, X_valid, y_train, y_valid = train_test_split(X_train, y_train,\n",
    "                                                      test_size=0.25,\n",
    "                                                      stratify=y_train,\n",
    "                                                      random_state=random_state)"
   ]
  },
  {
   "cell_type": "code",
   "execution_count": 25,
   "id": "afcc74da",
   "metadata": {},
   "outputs": [
    {
     "data": {
      "text/plain": [
       "((6000, 10), (6000,))"
      ]
     },
     "execution_count": 25,
     "metadata": {},
     "output_type": "execute_result"
    }
   ],
   "source": [
    "X_train.shape, y_train.shape"
   ]
  },
  {
   "cell_type": "code",
   "execution_count": 26,
   "id": "c3eec9f4",
   "metadata": {},
   "outputs": [
    {
     "data": {
      "text/plain": [
       "((2000, 10), (2000,))"
      ]
     },
     "execution_count": 26,
     "metadata": {},
     "output_type": "execute_result"
    }
   ],
   "source": [
    "X_valid.shape, y_valid.shape"
   ]
  },
  {
   "cell_type": "code",
   "execution_count": 27,
   "id": "348d7ea1",
   "metadata": {},
   "outputs": [
    {
     "data": {
      "text/plain": [
       "((2000, 10), (2000,))"
      ]
     },
     "execution_count": 27,
     "metadata": {},
     "output_type": "execute_result"
    }
   ],
   "source": [
    "X_test.shape, y_test.shape"
   ]
  },
  {
   "cell_type": "markdown",
   "id": "b32fef4f",
   "metadata": {},
   "source": [
    "<br>\n",
    "\n",
    "## Preprocessing\n",
    "***\n",
    "[back](#Table-of-Contents)\n",
    "\n",
    "- [Analysis of features by type](#Analysis-of-features-by-type)\n",
    "- [Missing values](#Missing-values)\n",
    "- [Outliers](#Outliers)\n",
    "- [Standardization](#Standardization)\n",
    "- [Categorical encoding](#Categorical-encoding)\n",
    "- [Target class](#Target-class)"
   ]
  },
  {
   "cell_type": "code",
   "execution_count": 28,
   "id": "841c3c48",
   "metadata": {},
   "outputs": [],
   "source": [
    "def calculate_descriptive_stats(series):\n",
    "    \"\"\"Returns a Tuple: (lower extreme, upper extreme, IQR, Q1, Q3)\"\"\"\n",
    "    \n",
    "    q1 = series.quantile(0.25)\n",
    "    q3 = series.quantile(0.75)\n",
    "    iqr = q3 - q1\n",
    "    \n",
    "    limits = [\n",
    "        max(q1 - (1.5 * iqr), series.min()),\n",
    "        min(q3 + (1.5 * iqr), series.max())]\n",
    "    \n",
    "    return limits[0], limits[1], iqr, q1, q3"
   ]
  },
  {
   "cell_type": "code",
   "execution_count": 29,
   "id": "ec45a5d2",
   "metadata": {},
   "outputs": [],
   "source": [
    "def outliers_report(df):\n",
    "    \"\"\"Generates a report. For each column, states extremes and number of outliers.\"\"\"\n",
    "    \n",
    "    for column in df.columns:\n",
    "        series = df[column]\n",
    "        lower_extreme, upper_extreme, _, _, _ = calculate_descriptive_stats(series)\n",
    "        outliers = series[(series < lower_extreme) | (series > upper_extreme)]\n",
    "        print(f'{series.name} outliers: {len(outliers)} ({len(outliers)/len(series):.2%})')\n",
    "        print(f'lower extreme: {lower_extreme}  upper extreme: {upper_extreme}')\n",
    "        print()\n",
    "        # print(outliers, '\\n')"
   ]
  },
  {
   "cell_type": "code",
   "execution_count": 30,
   "id": "ff704bbf",
   "metadata": {},
   "outputs": [],
   "source": [
    "def outliers_mask(df):\n",
    "    \"\"\"Returns a mask (True/False DataFrame), True for outlier.\"\"\"\n",
    "    \n",
    "    mask = []\n",
    "    \n",
    "    for column in df.columns:\n",
    "        series = df[column]\n",
    "        lower_extreme, upper_extreme, _, _, _ = calculate_descriptive_stats(series)\n",
    "        mask.append((df[column] > upper_extreme) | (df[column] < lower_extreme))\n",
    "        \n",
    "    return pd.concat(mask, axis=1)"
   ]
  },
  {
   "cell_type": "code",
   "execution_count": 31,
   "id": "b1ae209d",
   "metadata": {},
   "outputs": [
    {
     "data": {
      "text/html": [
       "<div>\n",
       "<style scoped>\n",
       "    .dataframe tbody tr th:only-of-type {\n",
       "        vertical-align: middle;\n",
       "    }\n",
       "\n",
       "    .dataframe tbody tr th {\n",
       "        vertical-align: top;\n",
       "    }\n",
       "\n",
       "    .dataframe thead th {\n",
       "        text-align: right;\n",
       "    }\n",
       "</style>\n",
       "<table border=\"1\" class=\"dataframe\">\n",
       "  <thead>\n",
       "    <tr style=\"text-align: right;\">\n",
       "      <th></th>\n",
       "      <th>Geography</th>\n",
       "      <th>Gender</th>\n",
       "    </tr>\n",
       "  </thead>\n",
       "  <tbody>\n",
       "    <tr>\n",
       "      <th>count</th>\n",
       "      <td>6000</td>\n",
       "      <td>6000</td>\n",
       "    </tr>\n",
       "    <tr>\n",
       "      <th>unique</th>\n",
       "      <td>3</td>\n",
       "      <td>2</td>\n",
       "    </tr>\n",
       "    <tr>\n",
       "      <th>top</th>\n",
       "      <td>France</td>\n",
       "      <td>Male</td>\n",
       "    </tr>\n",
       "    <tr>\n",
       "      <th>freq</th>\n",
       "      <td>3027</td>\n",
       "      <td>3304</td>\n",
       "    </tr>\n",
       "  </tbody>\n",
       "</table>\n",
       "</div>"
      ],
      "text/plain": [
       "       Geography Gender\n",
       "count       6000   6000\n",
       "unique         3      2\n",
       "top       France   Male\n",
       "freq        3027   3304"
      ]
     },
     "execution_count": 31,
     "metadata": {},
     "output_type": "execute_result"
    }
   ],
   "source": [
    "X_train.describe(include='O')"
   ]
  },
  {
   "cell_type": "code",
   "execution_count": 32,
   "id": "747c9a70",
   "metadata": {},
   "outputs": [
    {
     "data": {
      "text/html": [
       "<div>\n",
       "<style scoped>\n",
       "    .dataframe tbody tr th:only-of-type {\n",
       "        vertical-align: middle;\n",
       "    }\n",
       "\n",
       "    .dataframe tbody tr th {\n",
       "        vertical-align: top;\n",
       "    }\n",
       "\n",
       "    .dataframe thead th {\n",
       "        text-align: right;\n",
       "    }\n",
       "</style>\n",
       "<table border=\"1\" class=\"dataframe\">\n",
       "  <thead>\n",
       "    <tr style=\"text-align: right;\">\n",
       "      <th></th>\n",
       "      <th>CreditScore</th>\n",
       "      <th>Age</th>\n",
       "      <th>Tenure</th>\n",
       "      <th>Balance</th>\n",
       "      <th>NumOfProducts</th>\n",
       "      <th>HasCrCard</th>\n",
       "      <th>IsActiveMember</th>\n",
       "      <th>EstimatedSalary</th>\n",
       "    </tr>\n",
       "  </thead>\n",
       "  <tbody>\n",
       "    <tr>\n",
       "      <th>count</th>\n",
       "      <td>6000.000000</td>\n",
       "      <td>6000.000000</td>\n",
       "      <td>5451.000000</td>\n",
       "      <td>6000.000000</td>\n",
       "      <td>6000.000000</td>\n",
       "      <td>6000.000000</td>\n",
       "      <td>6000.000000</td>\n",
       "      <td>6000.000000</td>\n",
       "    </tr>\n",
       "    <tr>\n",
       "      <th>mean</th>\n",
       "      <td>650.377000</td>\n",
       "      <td>38.882333</td>\n",
       "      <td>4.988442</td>\n",
       "      <td>75571.273438</td>\n",
       "      <td>1.527167</td>\n",
       "      <td>0.705667</td>\n",
       "      <td>0.517000</td>\n",
       "      <td>99893.187500</td>\n",
       "    </tr>\n",
       "    <tr>\n",
       "      <th>std</th>\n",
       "      <td>96.156254</td>\n",
       "      <td>10.306512</td>\n",
       "      <td>2.893595</td>\n",
       "      <td>62392.722656</td>\n",
       "      <td>0.575602</td>\n",
       "      <td>0.455780</td>\n",
       "      <td>0.499753</td>\n",
       "      <td>57509.679688</td>\n",
       "    </tr>\n",
       "    <tr>\n",
       "      <th>min</th>\n",
       "      <td>350.000000</td>\n",
       "      <td>18.000000</td>\n",
       "      <td>0.000000</td>\n",
       "      <td>0.000000</td>\n",
       "      <td>1.000000</td>\n",
       "      <td>0.000000</td>\n",
       "      <td>0.000000</td>\n",
       "      <td>91.750000</td>\n",
       "    </tr>\n",
       "    <tr>\n",
       "      <th>25%</th>\n",
       "      <td>584.000000</td>\n",
       "      <td>32.000000</td>\n",
       "      <td>2.000000</td>\n",
       "      <td>0.000000</td>\n",
       "      <td>1.000000</td>\n",
       "      <td>0.000000</td>\n",
       "      <td>0.000000</td>\n",
       "      <td>50895.310547</td>\n",
       "    </tr>\n",
       "    <tr>\n",
       "      <th>50%</th>\n",
       "      <td>651.000000</td>\n",
       "      <td>37.000000</td>\n",
       "      <td>5.000000</td>\n",
       "      <td>96647.175781</td>\n",
       "      <td>1.000000</td>\n",
       "      <td>1.000000</td>\n",
       "      <td>1.000000</td>\n",
       "      <td>99812.152344</td>\n",
       "    </tr>\n",
       "    <tr>\n",
       "      <th>75%</th>\n",
       "      <td>717.250000</td>\n",
       "      <td>44.000000</td>\n",
       "      <td>7.000000</td>\n",
       "      <td>126995.585938</td>\n",
       "      <td>2.000000</td>\n",
       "      <td>1.000000</td>\n",
       "      <td>1.000000</td>\n",
       "      <td>149079.750000</td>\n",
       "    </tr>\n",
       "    <tr>\n",
       "      <th>max</th>\n",
       "      <td>850.000000</td>\n",
       "      <td>92.000000</td>\n",
       "      <td>10.000000</td>\n",
       "      <td>238387.562500</td>\n",
       "      <td>4.000000</td>\n",
       "      <td>1.000000</td>\n",
       "      <td>1.000000</td>\n",
       "      <td>199992.484375</td>\n",
       "    </tr>\n",
       "  </tbody>\n",
       "</table>\n",
       "</div>"
      ],
      "text/plain": [
       "       CreditScore          Age       Tenure        Balance  NumOfProducts  \\\n",
       "count  6000.000000  6000.000000  5451.000000    6000.000000    6000.000000   \n",
       "mean    650.377000    38.882333     4.988442   75571.273438       1.527167   \n",
       "std      96.156254    10.306512     2.893595   62392.722656       0.575602   \n",
       "min     350.000000    18.000000     0.000000       0.000000       1.000000   \n",
       "25%     584.000000    32.000000     2.000000       0.000000       1.000000   \n",
       "50%     651.000000    37.000000     5.000000   96647.175781       1.000000   \n",
       "75%     717.250000    44.000000     7.000000  126995.585938       2.000000   \n",
       "max     850.000000    92.000000    10.000000  238387.562500       4.000000   \n",
       "\n",
       "         HasCrCard  IsActiveMember  EstimatedSalary  \n",
       "count  6000.000000     6000.000000      6000.000000  \n",
       "mean      0.705667        0.517000     99893.187500  \n",
       "std       0.455780        0.499753     57509.679688  \n",
       "min       0.000000        0.000000        91.750000  \n",
       "25%       0.000000        0.000000     50895.310547  \n",
       "50%       1.000000        1.000000     99812.152344  \n",
       "75%       1.000000        1.000000    149079.750000  \n",
       "max       1.000000        1.000000    199992.484375  "
      ]
     },
     "execution_count": 32,
     "metadata": {},
     "output_type": "execute_result"
    }
   ],
   "source": [
    "X_train.describe()"
   ]
  },
  {
   "cell_type": "code",
   "execution_count": 33,
   "id": "73ec2f87",
   "metadata": {},
   "outputs": [
    {
     "data": {
      "image/png": "[encoded data removed]",
      "text/plain": [
       "<Figure size 936x504 with 9 Axes>"
      ]
     },
     "metadata": {
      "needs_background": "light"
     },
     "output_type": "display_data"
    }
   ],
   "source": [
    "X_train.select_dtypes('number').hist()\n",
    "plt.suptitle('Features distribution', fontsize=16)\n",
    "plt.tight_layout()"
   ]
  },
  {
   "cell_type": "markdown",
   "id": "2b7d1209",
   "metadata": {},
   "source": [
    "### Analysis of features by type\n",
    "[up](#Preprocessing)"
   ]
  },
  {
   "cell_type": "code",
   "execution_count": 34,
   "id": "c0614ae1",
   "metadata": {},
   "outputs": [],
   "source": [
    "categorical_columns = ['Geography', 'Gender']"
   ]
  },
  {
   "cell_type": "code",
   "execution_count": 35,
   "id": "ab6e78df",
   "metadata": {},
   "outputs": [],
   "source": [
    "boolean_columns = ['IsActiveMember', 'HasCrCard']"
   ]
  },
  {
   "cell_type": "code",
   "execution_count": 36,
   "id": "4c317c7a",
   "metadata": {},
   "outputs": [
    {
     "data": {
      "text/plain": [
       "['Age', 'Balance', 'CreditScore', 'EstimatedSalary', 'NumOfProducts', 'Tenure']"
      ]
     },
     "execution_count": 36,
     "metadata": {},
     "output_type": "execute_result"
    }
   ],
   "source": [
    "numerical_columns = features.columns.symmetric_difference(categorical_columns + boolean_columns).tolist()\n",
    "numerical_columns"
   ]
  },
  {
   "cell_type": "code",
   "execution_count": 37,
   "id": "9e6514e2",
   "metadata": {},
   "outputs": [
    {
     "name": "stdout",
     "output_type": "stream",
     "text": [
      "Variable types\n",
      "\n",
      "Categorical:\n",
      "  Geography\n",
      "  Gender\n",
      "\n",
      "Boolean:\n",
      "  IsActiveMember\n",
      "  HasCrCard\n",
      "\n",
      "Numerical:\n",
      "  Age\n",
      "  Balance\n",
      "  CreditScore\n",
      "  EstimatedSalary\n",
      "  NumOfProducts\n",
      "  Tenure\n",
      "\n",
      "Total features: 10\n"
     ]
    }
   ],
   "source": [
    "print('Variable types\\n',\n",
    "      'Categorical:\\n  {}'.format('\\n  '.join(f for f in categorical_columns)), '',\n",
    "      'Boolean:\\n  {}'.format('\\n  '.join(f for f in boolean_columns)), '',\n",
    "      'Numerical:\\n  {}'.format('\\n  '.join(f for f in numerical_columns)), '',\n",
    "      f'Total features: {len(categorical_columns + boolean_columns + numerical_columns)}', sep='\\n')"
   ]
  },
  {
   "cell_type": "code",
   "execution_count": 38,
   "id": "69da5251",
   "metadata": {},
   "outputs": [],
   "source": [
    "def preprocess_data(*data, \n",
    "                    numerical_cols=numerical_columns,\n",
    "                    categorical_cols=categorical_columns,\n",
    "                    scaler=None,\n",
    "                    ohe=None,\n",
    "                    refit=False):\n",
    "    \n",
    "    \"\"\"Feature standardization & One-Hot encoding\"\"\"\n",
    "    \n",
    "    assert data and len(data) > 0, \"'data' must contain at least one element\"\n",
    "        \n",
    "    if scaler == None:\n",
    "        scaler = StandardScaler().fit(data[0][numerical_cols])\n",
    "    \n",
    "    if ohe == None:\n",
    "        ohe = OneHotEncoder(drop='first', dtype='int8').fit(data[0][categorical_cols])\n",
    "        \n",
    "    if refit:\n",
    "        scaler.fit(data[0][numerical_cols])\n",
    "        ohe.fit(data[0][categorical_cols])\n",
    "    \n",
    "    def process(X):\n",
    "        data_scaled = pd.DataFrame(data=scaler.transform(X[numerical_cols]),\n",
    "                                   columns=numerical_cols,\n",
    "                                   index=X.index)\n",
    "        data_ohe = pd.DataFrame(data=ohe.transform(X[categorical_cols]).toarray(),\n",
    "                                columns=ohe.get_feature_names(categorical_cols),\n",
    "                                index=X.index)\n",
    "        \n",
    "        remaining = X[X.columns.symmetric_difference(numerical_cols + categorical_cols)]\n",
    "        \n",
    "        return pd.concat([\n",
    "            data_scaled,\n",
    "            data_ohe,\n",
    "            remaining\n",
    "        ], axis=1)\n",
    "    \n",
    "    return scaler, ohe, *[process(d) for d in data]\n",
    "\n",
    "# preprocess_data(X_train, X_test, categorical_cols=['Gender', 'Geography'])"
   ]
  },
  {
   "cell_type": "markdown",
   "id": "88e02fab",
   "metadata": {},
   "source": [
    "### Missing values\n",
    "[up](#Preprocessing)"
   ]
  },
  {
   "cell_type": "code",
   "execution_count": 39,
   "id": "0d651ad8",
   "metadata": {},
   "outputs": [
    {
     "data": {
      "text/plain": [
       "CreditScore          0\n",
       "Geography            0\n",
       "Gender               0\n",
       "Age                  0\n",
       "Tenure             549\n",
       "Balance              0\n",
       "NumOfProducts        0\n",
       "HasCrCard            0\n",
       "IsActiveMember       0\n",
       "EstimatedSalary      0\n",
       "dtype: int64"
      ]
     },
     "execution_count": 39,
     "metadata": {},
     "output_type": "execute_result"
    }
   ],
   "source": [
    "X_train.isna().sum()"
   ]
  },
  {
   "cell_type": "code",
   "execution_count": 40,
   "id": "6de811cb",
   "metadata": {},
   "outputs": [
    {
     "data": {
      "text/plain": [
       "0.10071546505228399"
      ]
     },
     "execution_count": 40,
     "metadata": {},
     "output_type": "execute_result"
    }
   ],
   "source": [
    "(X_train.isna().sum() / X_train.count())['Tenure']"
   ]
  },
  {
   "cell_type": "code",
   "execution_count": 41,
   "id": "598e3ef8",
   "metadata": {
    "scrolled": true
   },
   "outputs": [
    {
     "data": {
      "text/plain": [
       "CreditScore        0.001558\n",
       "Age               -0.024293\n",
       "Tenure             1.000000\n",
       "Balance            0.000852\n",
       "NumOfProducts      0.015712\n",
       "HasCrCard          0.010756\n",
       "IsActiveMember    -0.029238\n",
       "EstimatedSalary    0.018051\n",
       "Name: Tenure, dtype: float64"
      ]
     },
     "execution_count": 41,
     "metadata": {},
     "output_type": "execute_result"
    }
   ],
   "source": [
    "X_train.corr()['Tenure']"
   ]
  },
  {
   "cell_type": "markdown",
   "id": "19ace1e7",
   "metadata": {},
   "source": [
    "'Tenure' has a lot (~10%) of missing values."
   ]
  },
  {
   "cell_type": "markdown",
   "id": "d8fae80c",
   "metadata": {},
   "source": [
    "Since Tenure is a numerical feature, we will fill in the missing values with representative values (median)."
   ]
  },
  {
   "cell_type": "code",
   "execution_count": 42,
   "id": "7053ce9f",
   "metadata": {},
   "outputs": [],
   "source": [
    "tenure_median = features['Tenure'].median()"
   ]
  },
  {
   "cell_type": "code",
   "execution_count": 43,
   "id": "b41735b1",
   "metadata": {},
   "outputs": [],
   "source": [
    "X_train['Tenure'].fillna(tenure_median, inplace=True)"
   ]
  },
  {
   "cell_type": "code",
   "execution_count": 44,
   "id": "de841aa5",
   "metadata": {},
   "outputs": [
    {
     "data": {
      "text/plain": [
       "CreditScore        0\n",
       "Geography          0\n",
       "Gender             0\n",
       "Age                0\n",
       "Tenure             0\n",
       "Balance            0\n",
       "NumOfProducts      0\n",
       "HasCrCard          0\n",
       "IsActiveMember     0\n",
       "EstimatedSalary    0\n",
       "dtype: int64"
      ]
     },
     "execution_count": 44,
     "metadata": {},
     "output_type": "execute_result"
    }
   ],
   "source": [
    "X_train.isna().sum()"
   ]
  },
  {
   "cell_type": "code",
   "execution_count": 45,
   "id": "88cc73d6",
   "metadata": {},
   "outputs": [],
   "source": [
    "X_valid['Tenure'].fillna(tenure_median, inplace=True)"
   ]
  },
  {
   "cell_type": "code",
   "execution_count": 46,
   "id": "abcfc20a",
   "metadata": {},
   "outputs": [
    {
     "data": {
      "text/plain": [
       "CreditScore        0\n",
       "Geography          0\n",
       "Gender             0\n",
       "Age                0\n",
       "Tenure             0\n",
       "Balance            0\n",
       "NumOfProducts      0\n",
       "HasCrCard          0\n",
       "IsActiveMember     0\n",
       "EstimatedSalary    0\n",
       "dtype: int64"
      ]
     },
     "execution_count": 46,
     "metadata": {},
     "output_type": "execute_result"
    }
   ],
   "source": [
    "X_valid.isna().sum()"
   ]
  },
  {
   "cell_type": "markdown",
   "id": "8fec20e1",
   "metadata": {},
   "source": [
    "Missing values have been successfully filled."
   ]
  },
  {
   "cell_type": "markdown",
   "id": "61b0c7bf",
   "metadata": {},
   "source": [
    "### Outliers\n",
    "[up](#Preprocessing)\n",
    "\n",
    "Checking for outliers of numerical variables:"
   ]
  },
  {
   "cell_type": "code",
   "execution_count": 47,
   "id": "baf61254",
   "metadata": {
    "scrolled": true
   },
   "outputs": [
    {
     "name": "stdout",
     "output_type": "stream",
     "text": [
      "Age outliers: 199 (3.32%)\n",
      "lower extreme: 18  upper extreme: 62.0\n",
      "\n",
      "Balance outliers: 0 (0.00%)\n",
      "lower extreme: 0.0  upper extreme: 238387.5625\n",
      "\n",
      "CreditScore outliers: 12 (0.20%)\n",
      "lower extreme: 384.125  upper extreme: 850\n",
      "\n",
      "EstimatedSalary outliers: 0 (0.00%)\n",
      "lower extreme: 91.75  upper extreme: 199992.484375\n",
      "\n",
      "NumOfProducts outliers: 30 (0.50%)\n",
      "lower extreme: 1  upper extreme: 3.5\n",
      "\n",
      "Tenure outliers: 0 (0.00%)\n",
      "lower extreme: 0.0  upper extreme: 10.0\n",
      "\n"
     ]
    }
   ],
   "source": [
    "outliers_report(X_train[numerical_columns])"
   ]
  },
  {
   "cell_type": "code",
   "execution_count": 48,
   "id": "fb60f649",
   "metadata": {
    "scrolled": true
   },
   "outputs": [
    {
     "data": {
      "text/plain": [
       "Age                199\n",
       "Balance              0\n",
       "CreditScore         12\n",
       "EstimatedSalary      0\n",
       "NumOfProducts       30\n",
       "Tenure               0\n",
       "dtype: int64"
      ]
     },
     "execution_count": 48,
     "metadata": {},
     "output_type": "execute_result"
    }
   ],
   "source": [
    "mask = outliers_mask(X_train[numerical_columns])\n",
    "mask.sum()"
   ]
  },
  {
   "cell_type": "code",
   "execution_count": 49,
   "id": "03cec46d",
   "metadata": {},
   "outputs": [
    {
     "data": {
      "image/png": "[encoded data removed]",
      "text/plain": [
       "<Figure size 936x504 with 6 Axes>"
      ]
     },
     "metadata": {
      "needs_background": "light"
     },
     "output_type": "display_data"
    }
   ],
   "source": [
    "X_train[numerical_columns].hist()\n",
    "plt.suptitle('Original features')\n",
    "plt.tight_layout()"
   ]
  },
  {
   "cell_type": "code",
   "execution_count": 50,
   "id": "7286f835",
   "metadata": {},
   "outputs": [
    {
     "data": {
      "image/png": "[encoded data removed]",
      "text/plain": [
       "<Figure size 936x504 with 6 Axes>"
      ]
     },
     "metadata": {
      "needs_background": "light"
     },
     "output_type": "display_data"
    }
   ],
   "source": [
    "X_train[numerical_columns].mask(mask).hist()\n",
    "plt.suptitle('Outliers removed')\n",
    "plt.tight_layout()"
   ]
  },
  {
   "cell_type": "markdown",
   "id": "82ecdf11",
   "metadata": {},
   "source": [
    "Shape of the distribution changes drastically for the 'Age' column, but at the expense of losing a substantial range of values.  \n",
    "Also NumOfProducts has lost a a single value (out of 4 possible values), which is 25% of its range."
   ]
  },
  {
   "cell_type": "code",
   "execution_count": 51,
   "id": "6cbfcad3",
   "metadata": {},
   "outputs": [
    {
     "data": {
      "image/png": "[encoded data removed]",
      "text/plain": [
       "<Figure size 936x504 with 1 Axes>"
      ]
     },
     "metadata": {
      "needs_background": "light"
     },
     "output_type": "display_data"
    }
   ],
   "source": [
    "X_train[numerical_columns].mask(~mask)['CreditScore'].hist()\n",
    "plt.title('Credit Score Outliers');"
   ]
  },
  {
   "cell_type": "code",
   "execution_count": 52,
   "id": "d26b2778",
   "metadata": {},
   "outputs": [
    {
     "data": {
      "image/png": "[encoded data removed]",
      "text/plain": [
       "<Figure size 936x504 with 1 Axes>"
      ]
     },
     "metadata": {
      "needs_background": "light"
     },
     "output_type": "display_data"
    }
   ],
   "source": [
    "X_train[numerical_columns].mask(~mask)['Age'].hist();\n",
    "plt.title('Age Outliers');"
   ]
  },
  {
   "cell_type": "code",
   "execution_count": 53,
   "id": "91afbe24",
   "metadata": {},
   "outputs": [
    {
     "data": {
      "image/png": "[encoded data removed]",
      "text/plain": [
       "<Figure size 936x504 with 1 Axes>"
      ]
     },
     "metadata": {
      "needs_background": "light"
     },
     "output_type": "display_data"
    }
   ],
   "source": [
    "X_train[numerical_columns].mask(~mask)['NumOfProducts'].hist();\n",
    "plt.title('NumOfProducts Outliers');"
   ]
  },
  {
   "cell_type": "markdown",
   "id": "641a1e4c",
   "metadata": {},
   "source": [
    "Values deemed 'outliers' by our algorithm are valid values,  \n",
    "and are important for the training of ML models.\n",
    "\n",
    "Leaving intact."
   ]
  },
  {
   "cell_type": "markdown",
   "id": "fd473ec9",
   "metadata": {},
   "source": [
    "### Standardization\n",
    "[up](#Preprocessing)"
   ]
  },
  {
   "cell_type": "markdown",
   "id": "8f5c57ae",
   "metadata": {},
   "source": [
    "For our models to be trained correctly, the numerical data should be on a uniform scale.  \n",
    "We will utilize Standard Scaler, which removes the mean and scales to unit variance."
   ]
  },
  {
   "cell_type": "code",
   "execution_count": 54,
   "id": "f13b546a",
   "metadata": {},
   "outputs": [
    {
     "data": {
      "text/plain": [
       "['Age', 'Balance', 'CreditScore', 'EstimatedSalary', 'NumOfProducts', 'Tenure']"
      ]
     },
     "execution_count": 54,
     "metadata": {},
     "output_type": "execute_result"
    }
   ],
   "source": [
    "numerical_columns"
   ]
  },
  {
   "cell_type": "code",
   "execution_count": 55,
   "id": "ab3b2c06",
   "metadata": {},
   "outputs": [],
   "source": [
    "scaler = StandardScaler()"
   ]
  },
  {
   "cell_type": "code",
   "execution_count": 56,
   "id": "c002fa86",
   "metadata": {},
   "outputs": [],
   "source": [
    "scaled_numerical = pd.DataFrame(\n",
    "    scaler.fit_transform(X_train[numerical_columns]),\n",
    "    columns=numerical_columns,\n",
    "    index=X_train[numerical_columns].index)"
   ]
  },
  {
   "cell_type": "code",
   "execution_count": 57,
   "id": "04097b6f",
   "metadata": {},
   "outputs": [
    {
     "data": {
      "image/png": "[encoded data removed]",
      "text/plain": [
       "<Figure size 936x504 with 6 Axes>"
      ]
     },
     "metadata": {
      "needs_background": "light"
     },
     "output_type": "display_data"
    }
   ],
   "source": [
    "scaled_numerical.hist()\n",
    "plt.suptitle('Standardized numerical features', fontsize=16)\n",
    "plt.tight_layout()"
   ]
  },
  {
   "cell_type": "markdown",
   "id": "11c71f09",
   "metadata": {},
   "source": [
    "### Categorical encoding\n",
    "[up](#Preprocessing)\n",
    "\n",
    "Most ML models of sklearn library are not accepting string values - only numerical values.  \n",
    "For this reason, we will have to encode our categorical features as numerical."
   ]
  },
  {
   "cell_type": "code",
   "execution_count": 58,
   "id": "cf85c390",
   "metadata": {},
   "outputs": [
    {
     "data": {
      "text/plain": [
       "['Geography', 'Gender']"
      ]
     },
     "execution_count": 58,
     "metadata": {},
     "output_type": "execute_result"
    }
   ],
   "source": [
    "categorical_columns"
   ]
  },
  {
   "cell_type": "markdown",
   "id": "60ac6c7d",
   "metadata": {},
   "source": [
    "For ordinal categories, where order matters, we would use label encoding.  \n",
    "For nominal categories, will use One-Hot encoding.\n",
    "\n",
    "Since order should not matter for either 'Geography' nor 'Gender', we will use One-Hot encoding on both.\n",
    "\n",
    "\\* 'IsActiveMember' and 'HasCrCard' are already in the wanted form (One-Hot Encoding)."
   ]
  },
  {
   "cell_type": "code",
   "execution_count": 59,
   "id": "62e5d92d",
   "metadata": {},
   "outputs": [
    {
     "data": {
      "text/html": [
       "<div>\n",
       "<style scoped>\n",
       "    .dataframe tbody tr th:only-of-type {\n",
       "        vertical-align: middle;\n",
       "    }\n",
       "\n",
       "    .dataframe tbody tr th {\n",
       "        vertical-align: top;\n",
       "    }\n",
       "\n",
       "    .dataframe thead th {\n",
       "        text-align: right;\n",
       "    }\n",
       "</style>\n",
       "<table border=\"1\" class=\"dataframe\">\n",
       "  <thead>\n",
       "    <tr style=\"text-align: right;\">\n",
       "      <th></th>\n",
       "      <th>Geography_Germany</th>\n",
       "      <th>Geography_Spain</th>\n",
       "      <th>Gender_Male</th>\n",
       "    </tr>\n",
       "  </thead>\n",
       "  <tbody>\n",
       "    <tr>\n",
       "      <th>4053</th>\n",
       "      <td>0</td>\n",
       "      <td>1</td>\n",
       "      <td>1</td>\n",
       "    </tr>\n",
       "    <tr>\n",
       "      <th>9797</th>\n",
       "      <td>0</td>\n",
       "      <td>1</td>\n",
       "      <td>1</td>\n",
       "    </tr>\n",
       "    <tr>\n",
       "      <th>4101</th>\n",
       "      <td>0</td>\n",
       "      <td>1</td>\n",
       "      <td>0</td>\n",
       "    </tr>\n",
       "    <tr>\n",
       "      <th>8920</th>\n",
       "      <td>0</td>\n",
       "      <td>0</td>\n",
       "      <td>0</td>\n",
       "    </tr>\n",
       "    <tr>\n",
       "      <th>2353</th>\n",
       "      <td>0</td>\n",
       "      <td>0</td>\n",
       "      <td>0</td>\n",
       "    </tr>\n",
       "  </tbody>\n",
       "</table>\n",
       "</div>"
      ],
      "text/plain": [
       "      Geography_Germany  Geography_Spain  Gender_Male\n",
       "4053                  0                1            1\n",
       "9797                  0                1            1\n",
       "4101                  0                1            0\n",
       "8920                  0                0            0\n",
       "2353                  0                0            0"
      ]
     },
     "execution_count": 59,
     "metadata": {},
     "output_type": "execute_result"
    }
   ],
   "source": [
    "ohe_categorical = pd.get_dummies(X_train[categorical_columns]\n",
    "                         .astype('str'),\n",
    "                         drop_first=True)\n",
    "ohe_categorical.head()"
   ]
  },
  {
   "cell_type": "code",
   "execution_count": 60,
   "id": "c984c666",
   "metadata": {},
   "outputs": [],
   "source": [
    "X_train_old = X_train\n",
    "X_valid_old = X_valid"
   ]
  },
  {
   "cell_type": "code",
   "execution_count": 61,
   "id": "8df27f99",
   "metadata": {},
   "outputs": [
    {
     "name": "stderr",
     "output_type": "stream",
     "text": [
      "/usr/local/Caskroom/miniconda/base/lib/python3.8/site-packages/sklearn/utils/deprecation.py:87: FutureWarning: Function get_feature_names is deprecated; get_feature_names is deprecated in 1.0 and will be removed in 1.2. Please use get_feature_names_out instead.\n",
      "  warnings.warn(msg, category=FutureWarning)\n",
      "/usr/local/Caskroom/miniconda/base/lib/python3.8/site-packages/sklearn/utils/deprecation.py:87: FutureWarning: Function get_feature_names is deprecated; get_feature_names is deprecated in 1.0 and will be removed in 1.2. Please use get_feature_names_out instead.\n",
      "  warnings.warn(msg, category=FutureWarning)\n"
     ]
    }
   ],
   "source": [
    "scaler, ohe, X_train, X_valid = preprocess_data(X_train, X_valid)"
   ]
  },
  {
   "cell_type": "code",
   "execution_count": 62,
   "id": "5bb72e45",
   "metadata": {},
   "outputs": [
    {
     "data": {
      "text/plain": [
       "Index(['Age', 'Balance', 'CreditScore', 'EstimatedSalary', 'NumOfProducts',\n",
       "       'Tenure', 'Geography_Germany', 'Geography_Spain', 'Gender_Male',\n",
       "       'HasCrCard', 'IsActiveMember'],\n",
       "      dtype='object')"
      ]
     },
     "execution_count": 62,
     "metadata": {},
     "output_type": "execute_result"
    }
   ],
   "source": [
    "X_train.columns"
   ]
  },
  {
   "cell_type": "code",
   "execution_count": 63,
   "id": "9cce7272",
   "metadata": {},
   "outputs": [
    {
     "data": {
      "text/plain": [
       "(6000, 11)"
      ]
     },
     "execution_count": 63,
     "metadata": {},
     "output_type": "execute_result"
    }
   ],
   "source": [
    "X_train.shape"
   ]
  },
  {
   "cell_type": "code",
   "execution_count": 64,
   "id": "5e5dd506",
   "metadata": {
    "scrolled": true
   },
   "outputs": [
    {
     "data": {
      "text/plain": [
       "Index(['Age', 'Balance', 'CreditScore', 'EstimatedSalary', 'NumOfProducts',\n",
       "       'Tenure', 'Geography_Germany', 'Geography_Spain', 'Gender_Male',\n",
       "       'HasCrCard', 'IsActiveMember'],\n",
       "      dtype='object')"
      ]
     },
     "execution_count": 64,
     "metadata": {},
     "output_type": "execute_result"
    }
   ],
   "source": [
    "X_valid.columns"
   ]
  },
  {
   "cell_type": "code",
   "execution_count": 65,
   "id": "940fa055",
   "metadata": {},
   "outputs": [
    {
     "data": {
      "text/plain": [
       "(2000, 11)"
      ]
     },
     "execution_count": 65,
     "metadata": {},
     "output_type": "execute_result"
    }
   ],
   "source": [
    "X_valid.shape"
   ]
  },
  {
   "cell_type": "code",
   "execution_count": 66,
   "id": "182f5f9b",
   "metadata": {},
   "outputs": [],
   "source": [
    "train_valid = X_train, X_valid, y_train, y_valid"
   ]
  },
  {
   "cell_type": "markdown",
   "id": "b661ecaa",
   "metadata": {},
   "source": [
    "### Target class\n",
    "[up](#Preprocessing)"
   ]
  },
  {
   "cell_type": "code",
   "execution_count": 67,
   "id": "59a238e2",
   "metadata": {},
   "outputs": [
    {
     "data": {
      "text/plain": [
       "0    0.7963\n",
       "1    0.2037\n",
       "Name: Exited, dtype: float64"
      ]
     },
     "execution_count": 67,
     "metadata": {},
     "output_type": "execute_result"
    }
   ],
   "source": [
    "target.value_counts(normalize=True)"
   ]
  },
  {
   "cell_type": "code",
   "execution_count": 68,
   "id": "41439fbd",
   "metadata": {
    "scrolled": false
   },
   "outputs": [
    {
     "data": {
      "image/png": "[encoded data removed]",
      "text/plain": [
       "<Figure size 936x504 with 1 Axes>"
      ]
     },
     "metadata": {
      "needs_background": "light"
     },
     "output_type": "display_data"
    }
   ],
   "source": [
    "target.hist()\n",
    "plt.title('Exited distribution', fontsize=16);"
   ]
  },
  {
   "cell_type": "markdown",
   "id": "52b06155",
   "metadata": {},
   "source": [
    "Target class is clearly imbalanced (4:1)."
   ]
  },
  {
   "cell_type": "markdown",
   "id": "6012fd71",
   "metadata": {},
   "source": [
    "<br>\n",
    "\n",
    "## Models\n",
    "***\n",
    "[back](#Table-of-Contents)\n",
    "\n",
    "- [Dummy model](#Dummy-model)\n",
    "- [Model metrics - imbalanced data](#Model-metrics---imbalanced-data)\n",
    "- [Hyperparameters tuning](#Hyperparameters-tuning)\n",
    "- [Model testing](#Model-testing)\n",
    "- [Best model test scores](#Best-model-test-scores)"
   ]
  },
  {
   "cell_type": "code",
   "execution_count": 69,
   "id": "33ed5f9c",
   "metadata": {},
   "outputs": [],
   "source": [
    "scorers = ['accuracy', 'precision', 'recall', 'f1', 'roc_auc', make_scorer(matthews_corrcoef)]"
   ]
  },
  {
   "cell_type": "code",
   "execution_count": 70,
   "id": "7ce407c4",
   "metadata": {},
   "outputs": [],
   "source": [
    "def get_scorer_name(self):\n",
    "    \"\"\"Remove '_score' suffix from scorer's name\"\"\"\n",
    "    \n",
    "    if isinstance(self, str):\n",
    "        return removesuffix(self, '_score')\n",
    "    elif callable(self):\n",
    "        return removesuffix(self._score_func.__name__, '_score')\n",
    "    \n",
    "# get_scorer_name(scorers[-1])"
   ]
  },
  {
   "cell_type": "code",
   "execution_count": 71,
   "id": "baa3ffe8",
   "metadata": {},
   "outputs": [],
   "source": [
    "def get_score(scorer, y_true, y_pred=None, y_proba=None):\n",
    "    \n",
    "    if isinstance(scorer, str):\n",
    "        scorer = get_scorer(scorer)\n",
    "\n",
    "    if scorer == None:\n",
    "        scorer = getattr(model, 'scoring', None)\n",
    "\n",
    "    if scorer != None:\n",
    "        score_type = get_scorer_name(scorer)\n",
    "\n",
    "        if score_type == 'roc_auc':\n",
    "            score = scorer._score_func(y_true, y_proba)\n",
    "        else:\n",
    "            score = scorer._score_func(y_true, y_pred)\n",
    "    else:\n",
    "        score_type, score = 'score', model.score(y_true, y_pred)\n",
    "\n",
    "    return score_type, score"
   ]
  },
  {
   "cell_type": "code",
   "execution_count": 72,
   "id": "030eb44e",
   "metadata": {},
   "outputs": [],
   "source": [
    "@hide_warnings\n",
    "def generate_scores_report(model, scorers, y_true, y_pred, y_proba, hide=False):\n",
    "    \"\"\"Generates a scores report, with timing\"\"\"\n",
    "    \n",
    "    _get_score = time_wrap(lambda scorer:get_score(scorer, y_true, y_pred, y_proba))\n",
    "    \n",
    "    report = {get_scorer_name(t): [score, time] for time, (t, score) in map(lambda x:_get_score(x), scorers)}\n",
    "    \n",
    "    if not hide:\n",
    "        print('scores:')\n",
    "        print('\\n'.join([f'  {f\"{k}:\":<20}{v[0]:<25.4f}{f\"time: {v[1]:.4f}\":>10}' for k,v in report.items()]))\n",
    "    \n",
    "    scores = {k: v[0] for k, v in report.items()}\n",
    "    times = {k: v[1] for k, v in report.items()}\n",
    "    \n",
    "    report = {\n",
    "        'scores': scores,\n",
    "        'times': times\n",
    "    }\n",
    "    \n",
    "    return report"
   ]
  },
  {
   "cell_type": "code",
   "execution_count": 73,
   "id": "80e53cba",
   "metadata": {},
   "outputs": [],
   "source": [
    "def get_scores(model, *data, scorers=scorers, hide=False):\n",
    "    \"\"\"Utility wrapper for generate_scores_report function\"\"\"\n",
    "    \n",
    "    X_train, X_test, y_train, y_test = data\n",
    "    \n",
    "    start_time = timer()\n",
    "    model.fit(X_train, y_train)\n",
    "    train_time = timer() - start_time\n",
    "    \n",
    "    start_time = timer()\n",
    "    y_pred = model.predict(X_test)\n",
    "    predict_time = timer() - start_time\n",
    "    \n",
    "    y_proba = model.predict_proba(X_test)[:, 1]\n",
    "    \n",
    "    if not hide:\n",
    "        print(f'{f\"train time:\":<15} {train_time:.4f}')\n",
    "        print(f'{f\"predict time:\":<15} {predict_time:.4f}')\n",
    "    \n",
    "    report = generate_scores_report(model, scorers, y_test, y_pred, y_proba, hide=hide)\n",
    "    report['confusion'] = confusion_matrix(y_test, y_pred)\n",
    "    report['times'] = {\n",
    "        'fit': train_time,\n",
    "        'predict': predict_time,\n",
    "        'score': report['times']\n",
    "    }\n",
    "    \n",
    "    return report"
   ]
  },
  {
   "cell_type": "code",
   "execution_count": 74,
   "id": "308f1686",
   "metadata": {},
   "outputs": [],
   "source": [
    "def report_to_df(report):\n",
    "    \"\"\"Converts report dictionary to a readable DataFrame.\"\"\"\n",
    "    \n",
    "    return (pd.DataFrame({k: v['scores'] \n",
    "                          for k, v in report.items()}).rename_axis('scores', axis=0).T,\n",
    "            pd.DataFrame({k: pd.json_normalize(v['times'], sep='_').squeeze() \n",
    "                          for k, v in report.items()}\n",
    "                        ).rename_axis('time (s)', axis=0).T[['fit', 'predict']])"
   ]
  },
  {
   "cell_type": "code",
   "execution_count": 75,
   "id": "f99dedc7",
   "metadata": {},
   "outputs": [],
   "source": [
    "def compare_models(models, *data, display=False):\n",
    "    \"\"\"Generates 2 dataframes: one for elapsed time (seconds), the other for scores.\"\"\"\n",
    "    \n",
    "    reports = {model.__class__.__name__: get_scores(model, *data, hide=True)\n",
    "               for model in models}\n",
    "\n",
    "    # pprint(reports)\n",
    "    if display:\n",
    "        globals()['display'](*report_to_df(reports))\n",
    "        \n",
    "    return reports\n",
    "        \n",
    "# compare_models([dummy], X_train, X_valid, y_train, y_valid, display=True);"
   ]
  },
  {
   "cell_type": "code",
   "execution_count": 76,
   "id": "b96a1f26",
   "metadata": {},
   "outputs": [],
   "source": [
    "@hide_warnings\n",
    "def halving_random(models, *data, cv_scoring='roc_auc', scorers=scorers, \n",
    "                   display=False, verbose=False, **kwargs):\n",
    "    \"\"\"Randomized search on hyper parameters (using HalvingRandomSearchCV)\"\"\"\n",
    "    \n",
    "    X_train, X_valid, y_train, y_valid = data\n",
    "    X = pd.concat([X_train, X_valid])\n",
    "    y = pd.concat([y_train, y_valid])\n",
    "    \n",
    "    reports = {}\n",
    "    \n",
    "    cv_scoring = get_scorer_name(cv_scoring)\n",
    "    # scoring = { get_scorer_name(k): get_scorer(k) for k in scorers }\n",
    "    # print(scoring, '\\n')\n",
    "            \n",
    "    for model, params in models.items():\n",
    "        model_name = model.__class__.__name__\n",
    "        \n",
    "        if params != None and len(params) > 0:\n",
    "            rh = HalvingRandomSearchCV(model, params,\n",
    "                                       n_jobs=-1,\n",
    "                                       scoring=cv_scoring,\n",
    "                                       refit=False,\n",
    "                                       random_state=random_state, **kwargs).fit(X, y)\n",
    "            \n",
    "            cv_res = pd.DataFrame(rh.cv_results_)\n",
    "            best = cv_res.iloc[rh.best_index_]\n",
    "            # print(model_name, rh.best_score_, rh.best_params_)\n",
    "            # print(cv_res.iloc[rh.best_index_])\n",
    "            \n",
    "            model.set_params(**best['params']).fit(X_train, y_train)\n",
    "            predict_time, y_pred = time_wrap(lambda:model.predict(X_valid))()\n",
    "            y_proba = model.predict_proba(X_valid)[:, 1]\n",
    "            scores = generate_scores_report(model, scorers, y_valid, y_pred, y_proba, hide=True)['scores']\n",
    "            # print(scores)\n",
    "            \n",
    "            reports[model_name] = {\n",
    "                'model': model,\n",
    "                'scores': scores,\n",
    "                'times': {\n",
    "                    'fit': best['mean_fit_time'],\n",
    "                    'predict': predict_time\n",
    "                }\n",
    "            }\n",
    "        else:\n",
    "            reports[model_name] = get_scores(model, *data, hide=True)\n",
    "            \n",
    "        reports[model_name]['model'] = model\n",
    "            \n",
    "        if verbose:\n",
    "            print(model)\n",
    "            \n",
    "    # pprint(reports)\n",
    "    if display:\n",
    "        globals()['display'](*report_to_df(reports))\n",
    "        \n",
    "    return reports"
   ]
  },
  {
   "cell_type": "code",
   "execution_count": 77,
   "id": "0670f9e2",
   "metadata": {},
   "outputs": [],
   "source": [
    "# # test function\n",
    "\n",
    "# halving_random({\n",
    "#     DummyClassifier(strategy='stratified', constant=1, random_state=random_state): None,\n",
    "#     LogisticRegression(random_state=random_state): {\n",
    "#         'solver': ['newton-cg', 'lbfgs', 'liblinear', 'sag', 'saga'],\n",
    "#         'tol': [1e-1, 1e-2, 1e-3],\n",
    "#         'C': [1, 1e-1, 1e-2]\n",
    "#     }\n",
    "# }, *train_valid, display=True);"
   ]
  },
  {
   "cell_type": "markdown",
   "id": "ddf34ec8",
   "metadata": {},
   "source": [
    "### Dummy model\n",
    "[up](#Models)"
   ]
  },
  {
   "cell_type": "code",
   "execution_count": 78,
   "id": "0992d16e",
   "metadata": {},
   "outputs": [
    {
     "name": "stdout",
     "output_type": "stream",
     "text": [
      "train time:     0.0012\n",
      "predict time:   0.0033\n",
      "scores:\n",
      "  accuracy:           0.6590                   time: 0.0019\n",
      "  precision:          0.1765                   time: 0.0019\n",
      "  recall:             0.1843                   time: 0.0016\n",
      "  f1:                 0.1803                   time: 0.0014\n",
      "  roc_auc:            0.4823                   time: 0.0029\n",
      "  matthews_corrcoef:  -0.0349                  time: 0.0021\n"
     ]
    },
    {
     "data": {
      "text/plain": [
       "array([[1243,  350],\n",
       "       [ 332,   75]])"
      ]
     },
     "execution_count": 78,
     "metadata": {},
     "output_type": "execute_result"
    }
   ],
   "source": [
    "get_scores(DummyClassifier(strategy='stratified', random_state=random_state),\n",
    "           *train_valid)['confusion']"
   ]
  },
  {
   "cell_type": "code",
   "execution_count": 79,
   "id": "e35b41eb",
   "metadata": {},
   "outputs": [
    {
     "name": "stdout",
     "output_type": "stream",
     "text": [
      "train time:     0.0008\n",
      "predict time:   0.0004\n",
      "scores:\n",
      "  accuracy:           0.7965                   time: 0.0005\n",
      "  precision:          0.0000                   time: 0.0020\n",
      "  recall:             0.0000                   time: 0.0014\n",
      "  f1:                 0.0000                   time: 0.0015\n",
      "  roc_auc:            0.5000                   time: 0.0013\n",
      "  matthews_corrcoef:  0.0000                   time: 0.0011\n"
     ]
    },
    {
     "data": {
      "text/plain": [
       "array([[1593,    0],\n",
       "       [ 407,    0]])"
      ]
     },
     "execution_count": 79,
     "metadata": {},
     "output_type": "execute_result"
    }
   ],
   "source": [
    "get_scores(DummyClassifier(strategy='most_frequent', random_state=random_state),\n",
    "           *train_valid)['confusion']"
   ]
  },
  {
   "cell_type": "code",
   "execution_count": 80,
   "id": "8420d97d",
   "metadata": {},
   "outputs": [
    {
     "name": "stdout",
     "output_type": "stream",
     "text": [
      "train time:     0.0007\n",
      "predict time:   0.0004\n",
      "scores:\n",
      "  accuracy:           0.7965                   time: 0.0008\n",
      "  precision:          0.0000                   time: 0.0011\n",
      "  recall:             0.0000                   time: 0.0012\n",
      "  f1:                 0.0000                   time: 0.0014\n",
      "  roc_auc:            0.5000                   time: 0.0014\n",
      "  matthews_corrcoef:  0.0000                   time: 0.0011\n"
     ]
    },
    {
     "data": {
      "text/plain": [
       "array([[1593,    0],\n",
       "       [ 407,    0]])"
      ]
     },
     "execution_count": 80,
     "metadata": {},
     "output_type": "execute_result"
    }
   ],
   "source": [
    "get_scores(DummyClassifier(strategy='prior', random_state=random_state),\n",
    "           *train_valid)['confusion']"
   ]
  },
  {
   "cell_type": "code",
   "execution_count": 81,
   "id": "8214e064",
   "metadata": {},
   "outputs": [
    {
     "name": "stdout",
     "output_type": "stream",
     "text": [
      "train time:     0.0008\n",
      "predict time:   0.0004\n",
      "scores:\n",
      "  accuracy:           0.4860                   time: 0.0009\n",
      "  precision:          0.1965                   time: 0.0014\n",
      "  recall:             0.4939                   time: 0.0013\n",
      "  f1:                 0.2811                   time: 0.0014\n",
      "  roc_auc:            0.5000                   time: 0.0013\n",
      "  matthews_corrcoef:  -0.0178                  time: 0.0013\n"
     ]
    },
    {
     "data": {
      "text/plain": [
       "array([[771, 822],\n",
       "       [206, 201]])"
      ]
     },
     "execution_count": 81,
     "metadata": {},
     "output_type": "execute_result"
    }
   ],
   "source": [
    "get_scores(DummyClassifier(strategy='uniform', random_state=random_state),\n",
    "           *train_valid)['confusion']"
   ]
  },
  {
   "cell_type": "code",
   "execution_count": 82,
   "id": "52214133",
   "metadata": {},
   "outputs": [
    {
     "name": "stdout",
     "output_type": "stream",
     "text": [
      "train time:     0.0006\n",
      "predict time:   0.0005\n",
      "scores:\n",
      "  accuracy:           0.2035                   time: 0.0010\n",
      "  precision:          0.2035                   time: 0.0014\n",
      "  recall:             1.0000                   time: 0.0014\n",
      "  f1:                 0.3382                   time: 0.0016\n",
      "  roc_auc:            0.5000                   time: 0.0017\n",
      "  matthews_corrcoef:  0.0000                   time: 0.0012\n"
     ]
    },
    {
     "data": {
      "text/plain": [
       "array([[   0, 1593],\n",
       "       [   0,  407]])"
      ]
     },
     "execution_count": 82,
     "metadata": {},
     "output_type": "execute_result"
    }
   ],
   "source": [
    "get_scores(DummyClassifier(strategy='constant', constant=1, random_state=random_state),\n",
    "           *train_valid)['confusion']"
   ]
  },
  {
   "cell_type": "code",
   "execution_count": 83,
   "id": "f749c61f",
   "metadata": {},
   "outputs": [],
   "source": [
    "dummy = DummyClassifier(strategy='constant', constant=1, random_state=random_state)"
   ]
  },
  {
   "cell_type": "markdown",
   "id": "6ee55ef0",
   "metadata": {},
   "source": [
    "### Model metrics - imbalanced data\n",
    "[up](#Models)\n",
    "\n",
    "To demonstrate the effects of class imbalance on our model,  \n",
    "we will compare models' score before and after class imbalance is taken into account."
   ]
  },
  {
   "cell_type": "code",
   "execution_count": 84,
   "id": "560bef08",
   "metadata": {},
   "outputs": [],
   "source": [
    "def get_class_ratio(y):\n",
    "    \"\"\"Returns binary class ratio (balance).\"\"\"\n",
    "    \n",
    "    return int(y.value_counts(normalize=True).to_frame().apply(lambda x:x[0]/x[1]).round())"
   ]
  },
  {
   "cell_type": "code",
   "execution_count": 85,
   "id": "8e72c0d7",
   "metadata": {},
   "outputs": [],
   "source": [
    "def upsample(features, target, repeat, random_state=None):\n",
    "    \"\"\"Returns balanced (upsampled) samples.\"\"\"\n",
    "    \n",
    "    features_zero = features[target == 0]\n",
    "    features_one = features[target == 1]\n",
    "    target_zero = target[target == 0]\n",
    "    target_one = target[target == 1]\n",
    "    \n",
    "    features_upsampled = pd.concat([features_zero] + [features_one] * repeat)\n",
    "    target_upsampled = pd.concat([target_zero] + [target_one] * repeat)\n",
    "\n",
    "    return shuffle(features_upsampled, target_upsampled, random_state=random_state)\n",
    "\n",
    "# upsample(X_train, y_train, 4)[1].value_counts(normalize=True)"
   ]
  },
  {
   "cell_type": "code",
   "execution_count": 86,
   "id": "ba5394aa",
   "metadata": {},
   "outputs": [],
   "source": [
    "def downsample(features, target, fraction, random_state=None):\n",
    "    \"\"\"Returns balanced (downsampled) samples.\"\"\"\n",
    "    \n",
    "    features_zero = features[target == 0]\n",
    "    features_one = features[target == 1]\n",
    "    target_zero = target[target == 0]\n",
    "    target_one = target[target == 1]\n",
    "\n",
    "    features_downsampled = pd.concat(\n",
    "        [features_zero.sample(frac=fraction, random_state=random_state)]\n",
    "        + [features_one])\n",
    "    target_downsampled = pd.concat(\n",
    "        [target_zero.sample(frac=fraction, random_state=random_state)]\n",
    "        + [target_one])\n",
    "\n",
    "    return shuffle(features_downsampled, target_downsampled, random_state=random_state)\n",
    "\n",
    "# downsample(X_train, y_train, 1/4)[1].value_counts(normalize=True)"
   ]
  },
  {
   "cell_type": "code",
   "execution_count": 87,
   "id": "b9767f51",
   "metadata": {},
   "outputs": [],
   "source": [
    "def fit_score(model, *data, scoring='accuracy', balance=False, random_state=None):\n",
    "    \"\"\"\n",
    "    Trains a model.\n",
    "    \n",
    "    params:\n",
    "        - scoring: type of score. 'accuracy' by default.\n",
    "        - balance: specify a balancing method to counteract target class imbalance. False by default.\n",
    "    \n",
    "    Returns model score (float).\n",
    "    \"\"\"\n",
    "    \n",
    "    X_train, X_test, y_train, y_test = data\n",
    "    \n",
    "    if balance == 'class_weight':\n",
    "        model.set_params(class_weight='balanced')\n",
    "    elif balance == 'upsample':\n",
    "        X_train, y_train = upsample(X_train, y_train, get_class_ratio(y_train), random_state)\n",
    "    elif balance == 'downsample':\n",
    "        X_train, y_train = downsample(X_train, y_train, 1/get_class_ratio(y_train), random_state)\n",
    "        \n",
    "    model.set_params(random_state=random_state)\n",
    "    model.fit(X_train, y_train)\n",
    "    \n",
    "    y_pred = model.predict(X_test)\n",
    "    y_proba = model.predict_proba(X_test)[:, 1]\n",
    "    \n",
    "    scorer = get_scorer(scoring)\n",
    "    return get_score(scorer, y_test, y_pred, y_proba)[1]"
   ]
  },
  {
   "cell_type": "code",
   "execution_count": 88,
   "id": "43447464",
   "metadata": {},
   "outputs": [],
   "source": [
    "def balance_data_comparison(model, metrics=['f1', 'roc_auc'], random_state=None):\n",
    "    \"\"\"Compares different kinds of class balancing techniques\"\"\"\n",
    "    \n",
    "    return pd.DataFrame.from_dict(\n",
    "        { metric: {\n",
    "        balance: fit_score(model, *train_valid, scoring=metric, balance=balance, random_state=random_state)\n",
    "        for balance in ['baseline', 'class_weight', 'upsample', 'downsample']\n",
    "    } for metric in ['f1', 'roc_auc']}).rename_axis(model.__class__.__name__, axis=1)\n",
    "\n",
    "# balance_data_comparison(LogisticRegression(random_state=random_state))"
   ]
  },
  {
   "cell_type": "code",
   "execution_count": 89,
   "id": "b7c6258f",
   "metadata": {},
   "outputs": [
    {
     "data": {
      "text/html": [
       "<div>\n",
       "<style scoped>\n",
       "    .dataframe tbody tr th:only-of-type {\n",
       "        vertical-align: middle;\n",
       "    }\n",
       "\n",
       "    .dataframe tbody tr th {\n",
       "        vertical-align: top;\n",
       "    }\n",
       "\n",
       "    .dataframe thead th {\n",
       "        text-align: right;\n",
       "    }\n",
       "</style>\n",
       "<table border=\"1\" class=\"dataframe\">\n",
       "  <thead>\n",
       "    <tr style=\"text-align: right;\">\n",
       "      <th>LogisticRegression</th>\n",
       "      <th>f1</th>\n",
       "      <th>roc_auc</th>\n",
       "    </tr>\n",
       "  </thead>\n",
       "  <tbody>\n",
       "    <tr>\n",
       "      <th>baseline</th>\n",
       "      <td>0.315972</td>\n",
       "      <td>0.768318</td>\n",
       "    </tr>\n",
       "    <tr>\n",
       "      <th>class_weight</th>\n",
       "      <td>0.481077</td>\n",
       "      <td>0.768318</td>\n",
       "    </tr>\n",
       "    <tr>\n",
       "      <th>upsample</th>\n",
       "      <td>0.481077</td>\n",
       "      <td>0.768294</td>\n",
       "    </tr>\n",
       "    <tr>\n",
       "      <th>downsample</th>\n",
       "      <td>0.480335</td>\n",
       "      <td>0.766747</td>\n",
       "    </tr>\n",
       "  </tbody>\n",
       "</table>\n",
       "</div>"
      ],
      "text/plain": [
       "LogisticRegression        f1   roc_auc\n",
       "baseline            0.315972  0.768318\n",
       "class_weight        0.481077  0.768318\n",
       "upsample            0.481077  0.768294\n",
       "downsample          0.480335  0.766747"
      ]
     },
     "execution_count": 89,
     "metadata": {},
     "output_type": "execute_result"
    }
   ],
   "source": [
    "balance_data_comparison(LogisticRegression(), random_state=random_state)"
   ]
  },
  {
   "cell_type": "code",
   "execution_count": 90,
   "id": "10a41dde",
   "metadata": {},
   "outputs": [
    {
     "data": {
      "text/html": [
       "<div>\n",
       "<style scoped>\n",
       "    .dataframe tbody tr th:only-of-type {\n",
       "        vertical-align: middle;\n",
       "    }\n",
       "\n",
       "    .dataframe tbody tr th {\n",
       "        vertical-align: top;\n",
       "    }\n",
       "\n",
       "    .dataframe thead th {\n",
       "        text-align: right;\n",
       "    }\n",
       "</style>\n",
       "<table border=\"1\" class=\"dataframe\">\n",
       "  <thead>\n",
       "    <tr style=\"text-align: right;\">\n",
       "      <th>DecisionTreeClassifier</th>\n",
       "      <th>f1</th>\n",
       "      <th>roc_auc</th>\n",
       "    </tr>\n",
       "  </thead>\n",
       "  <tbody>\n",
       "    <tr>\n",
       "      <th>baseline</th>\n",
       "      <td>0.492788</td>\n",
       "      <td>0.695578</td>\n",
       "    </tr>\n",
       "    <tr>\n",
       "      <th>class_weight</th>\n",
       "      <td>0.516129</td>\n",
       "      <td>0.695578</td>\n",
       "    </tr>\n",
       "    <tr>\n",
       "      <th>upsample</th>\n",
       "      <td>0.525529</td>\n",
       "      <td>0.701147</td>\n",
       "    </tr>\n",
       "    <tr>\n",
       "      <th>downsample</th>\n",
       "      <td>0.477891</td>\n",
       "      <td>0.692039</td>\n",
       "    </tr>\n",
       "  </tbody>\n",
       "</table>\n",
       "</div>"
      ],
      "text/plain": [
       "DecisionTreeClassifier        f1   roc_auc\n",
       "baseline                0.492788  0.695578\n",
       "class_weight            0.516129  0.695578\n",
       "upsample                0.525529  0.701147\n",
       "downsample              0.477891  0.692039"
      ]
     },
     "execution_count": 90,
     "metadata": {},
     "output_type": "execute_result"
    }
   ],
   "source": [
    "balance_data_comparison(DecisionTreeClassifier(), random_state=random_state)"
   ]
  },
  {
   "cell_type": "code",
   "execution_count": 91,
   "id": "4b505fad",
   "metadata": {},
   "outputs": [
    {
     "data": {
      "text/html": [
       "<div>\n",
       "<style scoped>\n",
       "    .dataframe tbody tr th:only-of-type {\n",
       "        vertical-align: middle;\n",
       "    }\n",
       "\n",
       "    .dataframe tbody tr th {\n",
       "        vertical-align: top;\n",
       "    }\n",
       "\n",
       "    .dataframe thead th {\n",
       "        text-align: right;\n",
       "    }\n",
       "</style>\n",
       "<table border=\"1\" class=\"dataframe\">\n",
       "  <thead>\n",
       "    <tr style=\"text-align: right;\">\n",
       "      <th>RandomForestClassifier</th>\n",
       "      <th>f1</th>\n",
       "      <th>roc_auc</th>\n",
       "    </tr>\n",
       "  </thead>\n",
       "  <tbody>\n",
       "    <tr>\n",
       "      <th>baseline</th>\n",
       "      <td>0.551829</td>\n",
       "      <td>0.843144</td>\n",
       "    </tr>\n",
       "    <tr>\n",
       "      <th>class_weight</th>\n",
       "      <td>0.551724</td>\n",
       "      <td>0.843144</td>\n",
       "    </tr>\n",
       "    <tr>\n",
       "      <th>upsample</th>\n",
       "      <td>0.569878</td>\n",
       "      <td>0.837141</td>\n",
       "    </tr>\n",
       "    <tr>\n",
       "      <th>downsample</th>\n",
       "      <td>0.551210</td>\n",
       "      <td>0.840386</td>\n",
       "    </tr>\n",
       "  </tbody>\n",
       "</table>\n",
       "</div>"
      ],
      "text/plain": [
       "RandomForestClassifier        f1   roc_auc\n",
       "baseline                0.551829  0.843144\n",
       "class_weight            0.551724  0.843144\n",
       "upsample                0.569878  0.837141\n",
       "downsample              0.551210  0.840386"
      ]
     },
     "execution_count": 91,
     "metadata": {},
     "output_type": "execute_result"
    }
   ],
   "source": [
    "balance_data_comparison(RandomForestClassifier(), random_state=random_state)"
   ]
  },
  {
   "cell_type": "markdown",
   "id": "58dac477",
   "metadata": {},
   "source": [
    "Downsampling the training data provided the best results for Logistic Regression and Decision Tree,  \n",
    "but Upsampling provided better results for Random Forest."
   ]
  },
  {
   "cell_type": "markdown",
   "id": "72850077",
   "metadata": {},
   "source": [
    "### Hyperparameters tuning\n",
    "[up](#Models)"
   ]
  },
  {
   "cell_type": "code",
   "execution_count": 92,
   "id": "15e245da",
   "metadata": {},
   "outputs": [
    {
     "data": {
      "text/plain": [
       "['f1', 'roc_auc', 'matthews_corrcoef']"
      ]
     },
     "execution_count": 92,
     "metadata": {},
     "output_type": "execute_result"
    }
   ],
   "source": [
    "avg_score_metrics = [get_scorer_name(s) for s in scorers[-3:]]\n",
    "avg_score_metrics"
   ]
  },
  {
   "cell_type": "code",
   "execution_count": 93,
   "id": "defd4adc",
   "metadata": {},
   "outputs": [],
   "source": [
    "def get_avg_scores(report, metrics=avg_score_metrics):\n",
    "    \"\"\"Calculate each model's average of metrics.\"\"\"\n",
    "    \n",
    "    return pd.Series({k: np.mean([v['scores'][s]\n",
    "                        for s in v['scores'] if s in metrics])\n",
    "            for k,v in report.items()}).sort_values(ascending=False)\n",
    "\n",
    "# get_avg_scores(report, [get_scorer_name(s) for s in scorers[-3:]])"
   ]
  },
  {
   "cell_type": "code",
   "execution_count": 94,
   "id": "177e391c",
   "metadata": {},
   "outputs": [],
   "source": [
    "def extract_best_estimator(report, metrics=avg_score_metrics, display_scores=False):\n",
    "    \"\"\"Extract the best estimator from report, based on the average score of metrics.\"\"\"\n",
    "    \n",
    "    avg_scores = get_avg_scores(report, metrics)\n",
    "    \n",
    "    if display_scores:\n",
    "        print(avg_scores)\n",
    "        \n",
    "    return report[avg_scores.index[0]]['model']\n",
    "\n",
    "# extract_best_estimator(report, [get_scorer_name(s) for s in scorers[-3:]])"
   ]
  },
  {
   "cell_type": "code",
   "execution_count": 95,
   "id": "5f131776",
   "metadata": {},
   "outputs": [],
   "source": [
    "models_grid = {\n",
    "    DummyClassifier(strategy='stratified', constant=1, random_state=random_state): None,\n",
    "    LogisticRegression(random_state=random_state): {\n",
    "        'solver': ['newton-cg', 'lbfgs', 'liblinear', 'sag', 'saga'],\n",
    "        'tol': [1e-1, 1e-2, 1e-3],\n",
    "        'C': [1, 1e-1, 1e-2],\n",
    "    },\n",
    "    DecisionTreeClassifier(random_state=random_state): {\n",
    "        'criterion': ['gini', 'entropy'],\n",
    "        'max_depth': [10, 20, 30, 50, None],\n",
    "        # 'min_samples_split': [2, 4, 8],\n",
    "        # 'min_samples_leaf': [1, 2, 3],\n",
    "    },\n",
    "    RandomForestClassifier(random_state=random_state): {\n",
    "        'criterion': ['gini', 'entropy'],\n",
    "        'max_depth': [10, 20, 30, 50, None],\n",
    "        # 'min_samples_split': [2, 4, 8],\n",
    "        # 'min_samples_leaf': [1, 2, 3],\n",
    "        'n_estimators': [100, 110, 120, 130],\n",
    "    },\n",
    "    GradientBoostingClassifier(random_state=random_state): {\n",
    "        'max_depth': [10, 20, 30, 50, None],\n",
    "        # 'min_samples_split': [2, 4, 8],\n",
    "        # 'min_samples_leaf': [1, 2, 3],\n",
    "        'n_estimators': [100, 110, 120, 130],\n",
    "        'learning_rate': [0.1, 0.01],\n",
    "    },\n",
    "    SVC(probability=True, random_state=random_state): None,\n",
    "}"
   ]
  },
  {
   "cell_type": "code",
   "execution_count": 96,
   "id": "05a16233",
   "metadata": {},
   "outputs": [
    {
     "name": "stdout",
     "output_type": "stream",
     "text": [
      "DummyClassifier(constant=1, random_state=123, strategy='stratified')\n",
      "LogisticRegression(C=0.1, random_state=123, tol=0.01)\n",
      "DecisionTreeClassifier(criterion='entropy', max_depth=50, random_state=123)\n",
      "RandomForestClassifier(max_depth=30, n_estimators=120, random_state=123)\n",
      "GradientBoostingClassifier(max_depth=30, n_estimators=130, random_state=123)\n",
      "SVC(probability=True, random_state=123)\n"
     ]
    },
    {
     "data": {
      "text/html": [
       "<div>\n",
       "<style scoped>\n",
       "    .dataframe tbody tr th:only-of-type {\n",
       "        vertical-align: middle;\n",
       "    }\n",
       "\n",
       "    .dataframe tbody tr th {\n",
       "        vertical-align: top;\n",
       "    }\n",
       "\n",
       "    .dataframe thead th {\n",
       "        text-align: right;\n",
       "    }\n",
       "</style>\n",
       "<table border=\"1\" class=\"dataframe\">\n",
       "  <thead>\n",
       "    <tr style=\"text-align: right;\">\n",
       "      <th>scores</th>\n",
       "      <th>accuracy</th>\n",
       "      <th>precision</th>\n",
       "      <th>recall</th>\n",
       "      <th>f1</th>\n",
       "      <th>roc_auc</th>\n",
       "      <th>matthews_corrcoef</th>\n",
       "    </tr>\n",
       "  </thead>\n",
       "  <tbody>\n",
       "    <tr>\n",
       "      <th>DummyClassifier</th>\n",
       "      <td>0.6590</td>\n",
       "      <td>0.176471</td>\n",
       "      <td>0.184275</td>\n",
       "      <td>0.180288</td>\n",
       "      <td>0.482282</td>\n",
       "      <td>-0.034875</td>\n",
       "    </tr>\n",
       "    <tr>\n",
       "      <th>LogisticRegression</th>\n",
       "      <td>0.8060</td>\n",
       "      <td>0.559748</td>\n",
       "      <td>0.218673</td>\n",
       "      <td>0.314488</td>\n",
       "      <td>0.765701</td>\n",
       "      <td>0.260046</td>\n",
       "    </tr>\n",
       "    <tr>\n",
       "      <th>DecisionTreeClassifier</th>\n",
       "      <td>0.7890</td>\n",
       "      <td>0.481572</td>\n",
       "      <td>0.481572</td>\n",
       "      <td>0.481572</td>\n",
       "      <td>0.674559</td>\n",
       "      <td>0.349118</td>\n",
       "    </tr>\n",
       "    <tr>\n",
       "      <th>RandomForestClassifier</th>\n",
       "      <td>0.8555</td>\n",
       "      <td>0.736000</td>\n",
       "      <td>0.452088</td>\n",
       "      <td>0.560122</td>\n",
       "      <td>0.843362</td>\n",
       "      <td>0.499914</td>\n",
       "    </tr>\n",
       "    <tr>\n",
       "      <th>GradientBoostingClassifier</th>\n",
       "      <td>0.7955</td>\n",
       "      <td>0.497561</td>\n",
       "      <td>0.501229</td>\n",
       "      <td>0.499388</td>\n",
       "      <td>0.716482</td>\n",
       "      <td>0.370899</td>\n",
       "    </tr>\n",
       "    <tr>\n",
       "      <th>SVC</th>\n",
       "      <td>0.8555</td>\n",
       "      <td>0.789216</td>\n",
       "      <td>0.395577</td>\n",
       "      <td>0.527005</td>\n",
       "      <td>0.817329</td>\n",
       "      <td>0.490313</td>\n",
       "    </tr>\n",
       "  </tbody>\n",
       "</table>\n",
       "</div>"
      ],
      "text/plain": [
       "scores                      accuracy  precision    recall        f1   roc_auc  \\\n",
       "DummyClassifier               0.6590   0.176471  0.184275  0.180288  0.482282   \n",
       "LogisticRegression            0.8060   0.559748  0.218673  0.314488  0.765701   \n",
       "DecisionTreeClassifier        0.7890   0.481572  0.481572  0.481572  0.674559   \n",
       "RandomForestClassifier        0.8555   0.736000  0.452088  0.560122  0.843362   \n",
       "GradientBoostingClassifier    0.7955   0.497561  0.501229  0.499388  0.716482   \n",
       "SVC                           0.8555   0.789216  0.395577  0.527005  0.817329   \n",
       "\n",
       "scores                      matthews_corrcoef  \n",
       "DummyClassifier                     -0.034875  \n",
       "LogisticRegression                   0.260046  \n",
       "DecisionTreeClassifier               0.349118  \n",
       "RandomForestClassifier               0.499914  \n",
       "GradientBoostingClassifier           0.370899  \n",
       "SVC                                  0.490313  "
      ]
     },
     "metadata": {},
     "output_type": "display_data"
    },
    {
     "data": {
      "text/html": [
       "<div>\n",
       "<style scoped>\n",
       "    .dataframe tbody tr th:only-of-type {\n",
       "        vertical-align: middle;\n",
       "    }\n",
       "\n",
       "    .dataframe tbody tr th {\n",
       "        vertical-align: top;\n",
       "    }\n",
       "\n",
       "    .dataframe thead th {\n",
       "        text-align: right;\n",
       "    }\n",
       "</style>\n",
       "<table border=\"1\" class=\"dataframe\">\n",
       "  <thead>\n",
       "    <tr style=\"text-align: right;\">\n",
       "      <th>time (s)</th>\n",
       "      <th>fit</th>\n",
       "      <th>predict</th>\n",
       "    </tr>\n",
       "  </thead>\n",
       "  <tbody>\n",
       "    <tr>\n",
       "      <th>DummyClassifier</th>\n",
       "      <td>0.000332</td>\n",
       "      <td>0.000565</td>\n",
       "    </tr>\n",
       "    <tr>\n",
       "      <th>LogisticRegression</th>\n",
       "      <td>0.006605</td>\n",
       "      <td>0.001697</td>\n",
       "    </tr>\n",
       "    <tr>\n",
       "      <th>DecisionTreeClassifier</th>\n",
       "      <td>0.003203</td>\n",
       "      <td>0.001521</td>\n",
       "    </tr>\n",
       "    <tr>\n",
       "      <th>RandomForestClassifier</th>\n",
       "      <td>0.264906</td>\n",
       "      <td>0.045725</td>\n",
       "    </tr>\n",
       "    <tr>\n",
       "      <th>GradientBoostingClassifier</th>\n",
       "      <td>0.655280</td>\n",
       "      <td>0.022892</td>\n",
       "    </tr>\n",
       "    <tr>\n",
       "      <th>SVC</th>\n",
       "      <td>4.460800</td>\n",
       "      <td>0.425969</td>\n",
       "    </tr>\n",
       "  </tbody>\n",
       "</table>\n",
       "</div>"
      ],
      "text/plain": [
       "time (s)                         fit   predict\n",
       "DummyClassifier             0.000332  0.000565\n",
       "LogisticRegression          0.006605  0.001697\n",
       "DecisionTreeClassifier      0.003203  0.001521\n",
       "RandomForestClassifier      0.264906  0.045725\n",
       "GradientBoostingClassifier  0.655280  0.022892\n",
       "SVC                         4.460800  0.425969"
      ]
     },
     "metadata": {},
     "output_type": "display_data"
    },
    {
     "name": "stdout",
     "output_type": "stream",
     "text": [
      "CPU times: user 14.2 s, sys: 525 ms, total: 14.7 s\n",
      "Wall time: 26.9 s\n"
     ]
    }
   ],
   "source": [
    "%%time\n",
    "\n",
    "report = halving_random(models_grid,\n",
    "                        *train_valid, \n",
    "                        cv=StratifiedKFold(shuffle=True, random_state=random_state),\n",
    "                        display=True,\n",
    "                        verbose=True)"
   ]
  },
  {
   "cell_type": "code",
   "execution_count": 97,
   "id": "ddd1d01b",
   "metadata": {},
   "outputs": [
    {
     "name": "stdout",
     "output_type": "stream",
     "text": [
      "RandomForestClassifier        0.634466\n",
      "SVC                           0.611549\n",
      "GradientBoostingClassifier    0.528923\n",
      "DecisionTreeClassifier        0.501750\n",
      "LogisticRegression            0.446745\n",
      "DummyClassifier               0.209232\n",
      "dtype: float64\n"
     ]
    },
    {
     "data": {
      "text/plain": [
       "RandomForestClassifier(max_depth=30, n_estimators=120, random_state=123)"
      ]
     },
     "execution_count": 97,
     "metadata": {},
     "output_type": "execute_result"
    }
   ],
   "source": [
    "extract_best_estimator(report, display_scores=True)"
   ]
  },
  {
   "cell_type": "code",
   "execution_count": 98,
   "id": "ebac1e22",
   "metadata": {},
   "outputs": [],
   "source": [
    "downsampled_train = downsample(X_train, y_train, .25)\n",
    "downsampled_train_valid = downsampled_train[0], X_valid, downsampled_train[1], y_valid"
   ]
  },
  {
   "cell_type": "code",
   "execution_count": 99,
   "id": "8a7fad35",
   "metadata": {},
   "outputs": [
    {
     "name": "stdout",
     "output_type": "stream",
     "text": [
      "DummyClassifier(constant=1, random_state=123, strategy='stratified')\n",
      "LogisticRegression(C=0.1, random_state=123, solver='newton-cg', tol=0.001)\n",
      "DecisionTreeClassifier(criterion='entropy', max_depth=50, random_state=123)\n",
      "RandomForestClassifier(criterion='entropy', max_depth=10, n_estimators=110,\n",
      "                       random_state=123)\n",
      "GradientBoostingClassifier(max_depth=None, n_estimators=110, random_state=123)\n",
      "SVC(probability=True, random_state=123)\n"
     ]
    },
    {
     "data": {
      "text/html": [
       "<div>\n",
       "<style scoped>\n",
       "    .dataframe tbody tr th:only-of-type {\n",
       "        vertical-align: middle;\n",
       "    }\n",
       "\n",
       "    .dataframe tbody tr th {\n",
       "        vertical-align: top;\n",
       "    }\n",
       "\n",
       "    .dataframe thead th {\n",
       "        text-align: right;\n",
       "    }\n",
       "</style>\n",
       "<table border=\"1\" class=\"dataframe\">\n",
       "  <thead>\n",
       "    <tr style=\"text-align: right;\">\n",
       "      <th>scores</th>\n",
       "      <th>accuracy</th>\n",
       "      <th>precision</th>\n",
       "      <th>recall</th>\n",
       "      <th>f1</th>\n",
       "      <th>roc_auc</th>\n",
       "      <th>matthews_corrcoef</th>\n",
       "    </tr>\n",
       "  </thead>\n",
       "  <tbody>\n",
       "    <tr>\n",
       "      <th>DummyClassifier</th>\n",
       "      <td>0.4895</td>\n",
       "      <td>0.197239</td>\n",
       "      <td>0.491400</td>\n",
       "      <td>0.281492</td>\n",
       "      <td>0.490207</td>\n",
       "      <td>-0.015771</td>\n",
       "    </tr>\n",
       "    <tr>\n",
       "      <th>LogisticRegression</th>\n",
       "      <td>0.6915</td>\n",
       "      <td>0.368090</td>\n",
       "      <td>0.719902</td>\n",
       "      <td>0.487116</td>\n",
       "      <td>0.768172</td>\n",
       "      <td>0.332409</td>\n",
       "    </tr>\n",
       "    <tr>\n",
       "      <th>DecisionTreeClassifier</th>\n",
       "      <td>0.6930</td>\n",
       "      <td>0.366795</td>\n",
       "      <td>0.700246</td>\n",
       "      <td>0.481419</td>\n",
       "      <td>0.695697</td>\n",
       "      <td>0.323293</td>\n",
       "    </tr>\n",
       "    <tr>\n",
       "      <th>RandomForestClassifier</th>\n",
       "      <td>0.7815</td>\n",
       "      <td>0.475962</td>\n",
       "      <td>0.729730</td>\n",
       "      <td>0.576140</td>\n",
       "      <td>0.847333</td>\n",
       "      <td>0.455736</td>\n",
       "    </tr>\n",
       "    <tr>\n",
       "      <th>GradientBoostingClassifier</th>\n",
       "      <td>0.7075</td>\n",
       "      <td>0.380054</td>\n",
       "      <td>0.692875</td>\n",
       "      <td>0.490862</td>\n",
       "      <td>0.728441</td>\n",
       "      <td>0.336794</td>\n",
       "    </tr>\n",
       "    <tr>\n",
       "      <th>SVC</th>\n",
       "      <td>0.7660</td>\n",
       "      <td>0.453149</td>\n",
       "      <td>0.724816</td>\n",
       "      <td>0.557656</td>\n",
       "      <td>0.835864</td>\n",
       "      <td>0.430764</td>\n",
       "    </tr>\n",
       "  </tbody>\n",
       "</table>\n",
       "</div>"
      ],
      "text/plain": [
       "scores                      accuracy  precision    recall        f1   roc_auc  \\\n",
       "DummyClassifier               0.4895   0.197239  0.491400  0.281492  0.490207   \n",
       "LogisticRegression            0.6915   0.368090  0.719902  0.487116  0.768172   \n",
       "DecisionTreeClassifier        0.6930   0.366795  0.700246  0.481419  0.695697   \n",
       "RandomForestClassifier        0.7815   0.475962  0.729730  0.576140  0.847333   \n",
       "GradientBoostingClassifier    0.7075   0.380054  0.692875  0.490862  0.728441   \n",
       "SVC                           0.7660   0.453149  0.724816  0.557656  0.835864   \n",
       "\n",
       "scores                      matthews_corrcoef  \n",
       "DummyClassifier                     -0.015771  \n",
       "LogisticRegression                   0.332409  \n",
       "DecisionTreeClassifier               0.323293  \n",
       "RandomForestClassifier               0.455736  \n",
       "GradientBoostingClassifier           0.336794  \n",
       "SVC                                  0.430764  "
      ]
     },
     "metadata": {},
     "output_type": "display_data"
    },
    {
     "data": {
      "text/html": [
       "<div>\n",
       "<style scoped>\n",
       "    .dataframe tbody tr th:only-of-type {\n",
       "        vertical-align: middle;\n",
       "    }\n",
       "\n",
       "    .dataframe tbody tr th {\n",
       "        vertical-align: top;\n",
       "    }\n",
       "\n",
       "    .dataframe thead th {\n",
       "        text-align: right;\n",
       "    }\n",
       "</style>\n",
       "<table border=\"1\" class=\"dataframe\">\n",
       "  <thead>\n",
       "    <tr style=\"text-align: right;\">\n",
       "      <th>time (s)</th>\n",
       "      <th>fit</th>\n",
       "      <th>predict</th>\n",
       "    </tr>\n",
       "  </thead>\n",
       "  <tbody>\n",
       "    <tr>\n",
       "      <th>DummyClassifier</th>\n",
       "      <td>0.000508</td>\n",
       "      <td>0.000599</td>\n",
       "    </tr>\n",
       "    <tr>\n",
       "      <th>LogisticRegression</th>\n",
       "      <td>0.016117</td>\n",
       "      <td>0.001750</td>\n",
       "    </tr>\n",
       "    <tr>\n",
       "      <th>DecisionTreeClassifier</th>\n",
       "      <td>0.003900</td>\n",
       "      <td>0.001797</td>\n",
       "    </tr>\n",
       "    <tr>\n",
       "      <th>RandomForestClassifier</th>\n",
       "      <td>0.241352</td>\n",
       "      <td>0.037949</td>\n",
       "    </tr>\n",
       "    <tr>\n",
       "      <th>GradientBoostingClassifier</th>\n",
       "      <td>0.652536</td>\n",
       "      <td>0.018250</td>\n",
       "    </tr>\n",
       "    <tr>\n",
       "      <th>SVC</th>\n",
       "      <td>0.959576</td>\n",
       "      <td>0.279533</td>\n",
       "    </tr>\n",
       "  </tbody>\n",
       "</table>\n",
       "</div>"
      ],
      "text/plain": [
       "time (s)                         fit   predict\n",
       "DummyClassifier             0.000508  0.000599\n",
       "LogisticRegression          0.016117  0.001750\n",
       "DecisionTreeClassifier      0.003900  0.001797\n",
       "RandomForestClassifier      0.241352  0.037949\n",
       "GradientBoostingClassifier  0.652536  0.018250\n",
       "SVC                         0.959576  0.279533"
      ]
     },
     "metadata": {},
     "output_type": "display_data"
    },
    {
     "name": "stdout",
     "output_type": "stream",
     "text": [
      "CPU times: user 6.27 s, sys: 376 ms, total: 6.64 s\n",
      "Wall time: 18.4 s\n"
     ]
    }
   ],
   "source": [
    "%%time\n",
    "\n",
    "downsample_report = halving_random(models_grid,\n",
    "                        *downsampled_train_valid, \n",
    "                        cv=StratifiedKFold(shuffle=True, random_state=random_state),\n",
    "                        display=True,\n",
    "                        verbose=True)"
   ]
  },
  {
   "cell_type": "code",
   "execution_count": 100,
   "id": "da13b35f",
   "metadata": {},
   "outputs": [
    {
     "name": "stdout",
     "output_type": "stream",
     "text": [
      "RandomForestClassifier        0.626403\n",
      "SVC                           0.608094\n",
      "LogisticRegression            0.529232\n",
      "GradientBoostingClassifier    0.518699\n",
      "DecisionTreeClassifier        0.500136\n",
      "DummyClassifier               0.251976\n",
      "dtype: float64\n"
     ]
    },
    {
     "data": {
      "text/plain": [
       "RandomForestClassifier(criterion='entropy', max_depth=10, n_estimators=110,\n",
       "                       random_state=123)"
      ]
     },
     "execution_count": 100,
     "metadata": {},
     "output_type": "execute_result"
    }
   ],
   "source": [
    "extract_best_estimator(downsample_report, display_scores=True)"
   ]
  },
  {
   "cell_type": "code",
   "execution_count": 101,
   "id": "105cea16",
   "metadata": {},
   "outputs": [],
   "source": [
    "upsampled_train = upsample(X_train, y_train, 4)\n",
    "upsampled_train_valid = upsampled_train[0], X_valid, upsampled_train[1], y_valid"
   ]
  },
  {
   "cell_type": "code",
   "execution_count": 102,
   "id": "ca7a9669",
   "metadata": {},
   "outputs": [
    {
     "name": "stdout",
     "output_type": "stream",
     "text": [
      "DummyClassifier(constant=1, random_state=123, strategy='stratified')\n",
      "LogisticRegression(C=1, random_state=123, solver='saga', tol=0.001)\n",
      "DecisionTreeClassifier(criterion='entropy', max_depth=50, random_state=123)\n",
      "RandomForestClassifier(criterion='entropy', n_estimators=120, random_state=123)\n",
      "GradientBoostingClassifier(max_depth=50, random_state=123)\n",
      "SVC(probability=True, random_state=123)\n"
     ]
    },
    {
     "data": {
      "text/html": [
       "<div>\n",
       "<style scoped>\n",
       "    .dataframe tbody tr th:only-of-type {\n",
       "        vertical-align: middle;\n",
       "    }\n",
       "\n",
       "    .dataframe tbody tr th {\n",
       "        vertical-align: top;\n",
       "    }\n",
       "\n",
       "    .dataframe thead th {\n",
       "        text-align: right;\n",
       "    }\n",
       "</style>\n",
       "<table border=\"1\" class=\"dataframe\">\n",
       "  <thead>\n",
       "    <tr style=\"text-align: right;\">\n",
       "      <th>scores</th>\n",
       "      <th>accuracy</th>\n",
       "      <th>precision</th>\n",
       "      <th>recall</th>\n",
       "      <th>f1</th>\n",
       "      <th>roc_auc</th>\n",
       "      <th>matthews_corrcoef</th>\n",
       "    </tr>\n",
       "  </thead>\n",
       "  <tbody>\n",
       "    <tr>\n",
       "      <th>DummyClassifier</th>\n",
       "      <td>0.4895</td>\n",
       "      <td>0.197239</td>\n",
       "      <td>0.491400</td>\n",
       "      <td>0.281492</td>\n",
       "      <td>0.490207</td>\n",
       "      <td>-0.015771</td>\n",
       "    </tr>\n",
       "    <tr>\n",
       "      <th>LogisticRegression</th>\n",
       "      <td>0.6865</td>\n",
       "      <td>0.361809</td>\n",
       "      <td>0.707617</td>\n",
       "      <td>0.478803</td>\n",
       "      <td>0.768357</td>\n",
       "      <td>0.319723</td>\n",
       "    </tr>\n",
       "    <tr>\n",
       "      <th>DecisionTreeClassifier</th>\n",
       "      <td>0.7910</td>\n",
       "      <td>0.486284</td>\n",
       "      <td>0.479115</td>\n",
       "      <td>0.482673</td>\n",
       "      <td>0.674900</td>\n",
       "      <td>0.351745</td>\n",
       "    </tr>\n",
       "    <tr>\n",
       "      <th>RandomForestClassifier</th>\n",
       "      <td>0.8375</td>\n",
       "      <td>0.620588</td>\n",
       "      <td>0.518428</td>\n",
       "      <td>0.564926</td>\n",
       "      <td>0.844062</td>\n",
       "      <td>0.468855</td>\n",
       "    </tr>\n",
       "    <tr>\n",
       "      <th>GradientBoostingClassifier</th>\n",
       "      <td>0.8025</td>\n",
       "      <td>0.514778</td>\n",
       "      <td>0.513514</td>\n",
       "      <td>0.514145</td>\n",
       "      <td>0.732685</td>\n",
       "      <td>0.390205</td>\n",
       "    </tr>\n",
       "    <tr>\n",
       "      <th>SVC</th>\n",
       "      <td>0.7845</td>\n",
       "      <td>0.480645</td>\n",
       "      <td>0.732187</td>\n",
       "      <td>0.580331</td>\n",
       "      <td>0.840492</td>\n",
       "      <td>0.461412</td>\n",
       "    </tr>\n",
       "  </tbody>\n",
       "</table>\n",
       "</div>"
      ],
      "text/plain": [
       "scores                      accuracy  precision    recall        f1   roc_auc  \\\n",
       "DummyClassifier               0.4895   0.197239  0.491400  0.281492  0.490207   \n",
       "LogisticRegression            0.6865   0.361809  0.707617  0.478803  0.768357   \n",
       "DecisionTreeClassifier        0.7910   0.486284  0.479115  0.482673  0.674900   \n",
       "RandomForestClassifier        0.8375   0.620588  0.518428  0.564926  0.844062   \n",
       "GradientBoostingClassifier    0.8025   0.514778  0.513514  0.514145  0.732685   \n",
       "SVC                           0.7845   0.480645  0.732187  0.580331  0.840492   \n",
       "\n",
       "scores                      matthews_corrcoef  \n",
       "DummyClassifier                     -0.015771  \n",
       "LogisticRegression                   0.319723  \n",
       "DecisionTreeClassifier               0.351745  \n",
       "RandomForestClassifier               0.468855  \n",
       "GradientBoostingClassifier           0.390205  \n",
       "SVC                                  0.461412  "
      ]
     },
     "metadata": {},
     "output_type": "display_data"
    },
    {
     "data": {
      "text/html": [
       "<div>\n",
       "<style scoped>\n",
       "    .dataframe tbody tr th:only-of-type {\n",
       "        vertical-align: middle;\n",
       "    }\n",
       "\n",
       "    .dataframe tbody tr th {\n",
       "        vertical-align: top;\n",
       "    }\n",
       "\n",
       "    .dataframe thead th {\n",
       "        text-align: right;\n",
       "    }\n",
       "</style>\n",
       "<table border=\"1\" class=\"dataframe\">\n",
       "  <thead>\n",
       "    <tr style=\"text-align: right;\">\n",
       "      <th>time (s)</th>\n",
       "      <th>fit</th>\n",
       "      <th>predict</th>\n",
       "    </tr>\n",
       "  </thead>\n",
       "  <tbody>\n",
       "    <tr>\n",
       "      <th>DummyClassifier</th>\n",
       "      <td>0.000497</td>\n",
       "      <td>0.000764</td>\n",
       "    </tr>\n",
       "    <tr>\n",
       "      <th>LogisticRegression</th>\n",
       "      <td>0.005107</td>\n",
       "      <td>0.001333</td>\n",
       "    </tr>\n",
       "    <tr>\n",
       "      <th>DecisionTreeClassifier</th>\n",
       "      <td>0.003473</td>\n",
       "      <td>0.001512</td>\n",
       "    </tr>\n",
       "    <tr>\n",
       "      <th>RandomForestClassifier</th>\n",
       "      <td>0.305521</td>\n",
       "      <td>0.046972</td>\n",
       "    </tr>\n",
       "    <tr>\n",
       "      <th>GradientBoostingClassifier</th>\n",
       "      <td>0.588737</td>\n",
       "      <td>0.020214</td>\n",
       "    </tr>\n",
       "    <tr>\n",
       "      <th>SVC</th>\n",
       "      <td>15.433094</td>\n",
       "      <td>0.975534</td>\n",
       "    </tr>\n",
       "  </tbody>\n",
       "</table>\n",
       "</div>"
      ],
      "text/plain": [
       "time (s)                          fit   predict\n",
       "DummyClassifier              0.000497  0.000764\n",
       "LogisticRegression           0.005107  0.001333\n",
       "DecisionTreeClassifier       0.003473  0.001512\n",
       "RandomForestClassifier       0.305521  0.046972\n",
       "GradientBoostingClassifier   0.588737  0.020214\n",
       "SVC                         15.433094  0.975534"
      ]
     },
     "metadata": {},
     "output_type": "display_data"
    },
    {
     "name": "stdout",
     "output_type": "stream",
     "text": [
      "CPU times: user 25.5 s, sys: 626 ms, total: 26.2 s\n",
      "Wall time: 37.9 s\n"
     ]
    }
   ],
   "source": [
    "%%time\n",
    "\n",
    "upsample_report = halving_random(models_grid,\n",
    "                        *upsampled_train_valid, \n",
    "                        cv=StratifiedKFold(shuffle=True, random_state=random_state),\n",
    "                        display=True,\n",
    "                        verbose=True)"
   ]
  },
  {
   "cell_type": "code",
   "execution_count": 103,
   "id": "fd66e774",
   "metadata": {},
   "outputs": [
    {
     "name": "stdout",
     "output_type": "stream",
     "text": [
      "SVC                           0.627412\n",
      "RandomForestClassifier        0.625948\n",
      "GradientBoostingClassifier    0.545678\n",
      "LogisticRegression            0.522294\n",
      "DecisionTreeClassifier        0.503106\n",
      "DummyClassifier               0.251976\n",
      "dtype: float64\n"
     ]
    },
    {
     "data": {
      "text/plain": [
       "SVC(probability=True, random_state=123)"
      ]
     },
     "execution_count": 103,
     "metadata": {},
     "output_type": "execute_result"
    }
   ],
   "source": [
    "extract_best_estimator(upsample_report, display_scores=True)"
   ]
  },
  {
   "cell_type": "markdown",
   "id": "5bb75354",
   "metadata": {},
   "source": [
    "Each balancing methods results in different 'best' model.  \n",
    "Will calculate avg score of all methods combined."
   ]
  },
  {
   "cell_type": "code",
   "execution_count": 104,
   "id": "e730de52",
   "metadata": {},
   "outputs": [
    {
     "data": {
      "text/plain": [
       "RandomForestClassifier        0.628939\n",
       "SVC                           0.615685\n",
       "GradientBoostingClassifier    0.531100\n",
       "DecisionTreeClassifier        0.501664\n",
       "LogisticRegression            0.499424\n",
       "DummyClassifier               0.237728\n",
       "dtype: float64"
      ]
     },
     "execution_count": 104,
     "metadata": {},
     "output_type": "execute_result"
    }
   ],
   "source": [
    "((get_avg_scores(report) + get_avg_scores(downsample_report) + get_avg_scores(upsample_report)) / 3\n",
    ").sort_values(ascending=False)"
   ]
  },
  {
   "cell_type": "markdown",
   "id": "2dc15863",
   "metadata": {},
   "source": [
    "RandomForestClassifier performed best all-around."
   ]
  },
  {
   "cell_type": "code",
   "execution_count": 105,
   "id": "af5b9460",
   "metadata": {},
   "outputs": [
    {
     "data": {
      "text/plain": [
       "RandomForestClassifier(criterion='entropy', n_estimators=120, random_state=123)"
      ]
     },
     "execution_count": 105,
     "metadata": {},
     "output_type": "execute_result"
    }
   ],
   "source": [
    "best_estimator = report['RandomForestClassifier']['model']\n",
    "best_estimator"
   ]
  },
  {
   "cell_type": "code",
   "execution_count": 106,
   "id": "6b513235",
   "metadata": {},
   "outputs": [],
   "source": [
    "# param_distributions = list({ k: v for k, v in models_grid.items()\n",
    "#                             if k.__class__.__name__ == 'RandomForestClassifier'}.values())[0]\n",
    "# best_estimator = hide_warnings(lambda:HalvingRandomSearchCV(\n",
    "#     RandomForestClassifier(random_state=random_state), \n",
    "#     param_distributions=param_distributions,\n",
    "#     random_state=random_state).fit(X_train, y_train).best_estimator_)()\n",
    "# best_estimator"
   ]
  },
  {
   "cell_type": "markdown",
   "id": "6fc6adbe",
   "metadata": {},
   "source": [
    "### Model testing\n",
    "[up](#Models)"
   ]
  },
  {
   "cell_type": "code",
   "execution_count": 107,
   "id": "a3fc8838",
   "metadata": {},
   "outputs": [],
   "source": [
    "def plot_confusion_matrix(cm, ticks=None, rotate_ylabels=False, fmt='l\\n\\nv\\nn', **kwargs):\n",
    "    \"\"\"Plots a confusion matrix\"\"\"\n",
    "    \n",
    "    labels = [['TN', 'FP'], \n",
    "              ['FN', 'TP']]\n",
    "    \n",
    "    # norm_values = cm.astype('float') / cm.sum(axis=1)[:, np.newaxis]\n",
    "    norm_values = cm.astype('float') / cm.sum(axis=1).reshape(-1, 1)\n",
    "    \n",
    "    def label(i, j):\n",
    "        nonlocal fmt\n",
    "        \n",
    "        if cm.shape != (2, 2):\n",
    "            fmt = fmt.replace('l', '')\n",
    "            \n",
    "        if '\\n' not in fmt:\n",
    "            fmt = '\\n\\n'.join(fmt)\n",
    "            \n",
    "        return fmt.replace('v', str(cm[i][j])) \\\n",
    "                  .replace('n', f'{norm_values[i][j]:.2f}') \\\n",
    "                  .replace('l', str(labels[i][j]))\n",
    "    \n",
    "    fig, ax = plt.subplots()\n",
    "    im = ax.imshow(cm, **kwargs)\n",
    "    plt.colorbar(im, ax=ax)\n",
    "\n",
    "    middle_value = np.max(cm) // 2\n",
    "    dark_color = im.cmap(255)\n",
    "    for i in range(2):\n",
    "        for j in range(2):\n",
    "            value = cm[i, j]\n",
    "            color = 'w' if value > middle_value else dark_color\n",
    "            plt.text(j, i, label(i, j), ha=\"center\", va=\"center\", color=color)\n",
    "\n",
    "    if ticks == None:\n",
    "        ticks = y_test.unique()\n",
    "        \n",
    "    ax.set_title('Confusion Matrix')\n",
    "    \n",
    "    ax.set_xlabel('Predicted label')\n",
    "    ax.set_xticks(range(len(ticks)))\n",
    "    ax.set_xticklabels(ticks)\n",
    "    \n",
    "    ax.set_ylabel('Actual label')\n",
    "    ax.set_yticks(range(len(ticks)))\n",
    "    \n",
    "    if rotate_ylabels:\n",
    "        ax.set_yticklabels(ticks, rotation=90, va='center')\n",
    "    else:\n",
    "        ax.set_yticklabels(ticks)\n",
    "    \n",
    "    plt.show()"
   ]
  },
  {
   "cell_type": "code",
   "execution_count": 108,
   "id": "5425ec4d",
   "metadata": {},
   "outputs": [],
   "source": [
    "def plot_roc_curve(model, X, y):\n",
    "    \"\"\"Plots ROC (Receiver Operating Characteristic) curve\"\"\"\n",
    "    \n",
    "    fpr, tpr, thresholds = roc_curve(y, model.predict_proba(X)[:, 1])\n",
    "    plt.plot(fpr, tpr)\n",
    "\n",
    "    # ROC curve for random model (looks like a straight line)\n",
    "    plt.plot([0, 1], [0, 1], linestyle='--')\n",
    "\n",
    "    plt.xlim([0, 1])\n",
    "    plt.xlabel(\"False Positive Rate\")\n",
    "    \n",
    "    plt.ylim([0, 1])\n",
    "    plt.ylabel(\"True Positive Rate\")\n",
    "    \n",
    "    plt.title(\"ROC curve\")\n",
    "    plt.show()\n",
    "    \n",
    "    return fpr, tpr, thresholds"
   ]
  },
  {
   "cell_type": "code",
   "execution_count": 109,
   "id": "89df0ae9",
   "metadata": {},
   "outputs": [],
   "source": [
    "def final_report(model, *data, scorers=scorers):\n",
    "    \"\"\"\n",
    "    Plots confusion matrix.\n",
    "    Returns scores by specified scorers.\n",
    "    \"\"\"\n",
    "    \n",
    "    X_train, X_test, y_train, y_test = data\n",
    "    \n",
    "    model.fit(X_train, y_train)\n",
    "    \n",
    "    y_pred_train = model.predict(X_train)\n",
    "    y_proba_train = model.predict_proba(X_train)[:, 1]\n",
    "    \n",
    "    y_pred_test = model.predict(X_test)\n",
    "    y_proba_test = model.predict_proba(X_test)[:, 1]\n",
    "    \n",
    "    print('estimator: ', model)\n",
    "    \n",
    "    cm = confusion_matrix(y_test, y_pred_test)\n",
    "    plot_confusion_matrix(cm, cmap='Greens')\n",
    "    \n",
    "    plot_roc_curve(model, X_test, y_test)\n",
    "    \n",
    "    scores = {\n",
    "        'train': {get_scorer_name(s): get_score(s, y_train, y_pred_train, y_proba_train)[1] for s in scorers},\n",
    "        'test': {get_scorer_name(s): get_score(s, y_test, y_pred_test, y_proba_test)[1] for s in scorers},\n",
    "    }\n",
    "    \n",
    "    display(pd.DataFrame.from_dict(scores).rename_axis('scores', axis=1))\n",
    "    \n",
    "    return scores"
   ]
  },
  {
   "cell_type": "code",
   "execution_count": 110,
   "id": "52e0ea4f",
   "metadata": {},
   "outputs": [],
   "source": [
    "best_estimator = upsample_report['RandomForestClassifier']['model']"
   ]
  },
  {
   "cell_type": "markdown",
   "id": "62584d96",
   "metadata": {},
   "source": [
    "Combining together train and validation sets, for final training before testing:"
   ]
  },
  {
   "cell_type": "code",
   "execution_count": 111,
   "id": "9434e59b",
   "metadata": {},
   "outputs": [],
   "source": [
    "X_train, y_train = shuffle(pd.concat([X_train, X_valid]), \n",
    "                           pd.concat([y_train, y_valid]), \n",
    "                           random_state=random_state)"
   ]
  },
  {
   "cell_type": "markdown",
   "id": "f464ff92",
   "metadata": {},
   "source": [
    "Preprocess X_test to make it compatible with the model:"
   ]
  },
  {
   "cell_type": "code",
   "execution_count": 112,
   "id": "14e425d3",
   "metadata": {},
   "outputs": [
    {
     "data": {
      "text/plain": [
       "CreditScore          0\n",
       "Geography            0\n",
       "Gender               0\n",
       "Age                  0\n",
       "Tenure             181\n",
       "Balance              0\n",
       "NumOfProducts        0\n",
       "HasCrCard            0\n",
       "IsActiveMember       0\n",
       "EstimatedSalary      0\n",
       "dtype: int64"
      ]
     },
     "execution_count": 112,
     "metadata": {},
     "output_type": "execute_result"
    }
   ],
   "source": [
    "X_test.isna().sum()"
   ]
  },
  {
   "cell_type": "code",
   "execution_count": 113,
   "id": "8db57168",
   "metadata": {},
   "outputs": [
    {
     "data": {
      "text/plain": [
       "0"
      ]
     },
     "execution_count": 113,
     "metadata": {},
     "output_type": "execute_result"
    }
   ],
   "source": [
    "X_test['Tenure'].fillna(tenure_median, inplace=True)\n",
    "X_test['Tenure'].isna().sum()"
   ]
  },
  {
   "cell_type": "code",
   "execution_count": 114,
   "id": "818995c6",
   "metadata": {},
   "outputs": [
    {
     "name": "stderr",
     "output_type": "stream",
     "text": [
      "/usr/local/Caskroom/miniconda/base/lib/python3.8/site-packages/sklearn/utils/deprecation.py:87: FutureWarning: Function get_feature_names is deprecated; get_feature_names is deprecated in 1.0 and will be removed in 1.2. Please use get_feature_names_out instead.\n",
      "  warnings.warn(msg, category=FutureWarning)\n"
     ]
    }
   ],
   "source": [
    "_, _, X_test = preprocess_data(X_test, scaler=scaler, ohe=ohe)"
   ]
  },
  {
   "cell_type": "markdown",
   "id": "9fc861b2",
   "metadata": {},
   "source": [
    "### Dummy scores\n",
    "[up](#Models)"
   ]
  },
  {
   "cell_type": "markdown",
   "id": "5944e1a9",
   "metadata": {},
   "source": [
    "Displaying dummy classifier report for baseline reference."
   ]
  },
  {
   "cell_type": "code",
   "execution_count": 115,
   "id": "43855545",
   "metadata": {},
   "outputs": [
    {
     "name": "stdout",
     "output_type": "stream",
     "text": [
      "estimator:  DummyClassifier(constant=1, random_state=123, strategy='constant')\n"
     ]
    },
    {
     "data": {
      "image/png": "[encoded data removed]",
      "text/plain": [
       "<Figure size 936x504 with 2 Axes>"
      ]
     },
     "metadata": {
      "needs_background": "light"
     },
     "output_type": "display_data"
    },
    {
     "data": {
      "image/png": "[encoded data removed]",
      "text/plain": [
       "<Figure size 936x504 with 1 Axes>"
      ]
     },
     "metadata": {
      "needs_background": "light"
     },
     "output_type": "display_data"
    },
    {
     "data": {
      "text/html": [
       "<div>\n",
       "<style scoped>\n",
       "    .dataframe tbody tr th:only-of-type {\n",
       "        vertical-align: middle;\n",
       "    }\n",
       "\n",
       "    .dataframe tbody tr th {\n",
       "        vertical-align: top;\n",
       "    }\n",
       "\n",
       "    .dataframe thead th {\n",
       "        text-align: right;\n",
       "    }\n",
       "</style>\n",
       "<table border=\"1\" class=\"dataframe\">\n",
       "  <thead>\n",
       "    <tr style=\"text-align: right;\">\n",
       "      <th>scores</th>\n",
       "      <th>train</th>\n",
       "      <th>test</th>\n",
       "    </tr>\n",
       "  </thead>\n",
       "  <tbody>\n",
       "    <tr>\n",
       "      <th>accuracy</th>\n",
       "      <td>0.203750</td>\n",
       "      <td>0.20350</td>\n",
       "    </tr>\n",
       "    <tr>\n",
       "      <th>precision</th>\n",
       "      <td>0.203750</td>\n",
       "      <td>0.20350</td>\n",
       "    </tr>\n",
       "    <tr>\n",
       "      <th>recall</th>\n",
       "      <td>1.000000</td>\n",
       "      <td>1.00000</td>\n",
       "    </tr>\n",
       "    <tr>\n",
       "      <th>f1</th>\n",
       "      <td>0.338525</td>\n",
       "      <td>0.33818</td>\n",
       "    </tr>\n",
       "    <tr>\n",
       "      <th>roc_auc</th>\n",
       "      <td>0.500000</td>\n",
       "      <td>0.50000</td>\n",
       "    </tr>\n",
       "    <tr>\n",
       "      <th>matthews_corrcoef</th>\n",
       "      <td>0.000000</td>\n",
       "      <td>0.00000</td>\n",
       "    </tr>\n",
       "  </tbody>\n",
       "</table>\n",
       "</div>"
      ],
      "text/plain": [
       "scores                train     test\n",
       "accuracy           0.203750  0.20350\n",
       "precision          0.203750  0.20350\n",
       "recall             1.000000  1.00000\n",
       "f1                 0.338525  0.33818\n",
       "roc_auc            0.500000  0.50000\n",
       "matthews_corrcoef  0.000000  0.00000"
      ]
     },
     "metadata": {},
     "output_type": "display_data"
    }
   ],
   "source": [
    "hide_warnings(lambda:final_report(dummy, X_train, X_test, y_train, y_test))();"
   ]
  },
  {
   "cell_type": "markdown",
   "id": "03cf2196",
   "metadata": {},
   "source": [
    "The ROC curve of the dummy model (Blue line) is exactly what's expected of a constant baseline model (Orange line),   \n",
    "and as a result both lines overlap."
   ]
  },
  {
   "cell_type": "markdown",
   "id": "aae3a17c",
   "metadata": {},
   "source": [
    "### Best model test scores\n",
    "[up](#Models)"
   ]
  },
  {
   "cell_type": "code",
   "execution_count": 116,
   "id": "d055a23e",
   "metadata": {
    "scrolled": false
   },
   "outputs": [
    {
     "name": "stdout",
     "output_type": "stream",
     "text": [
      "estimator:  RandomForestClassifier(criterion='entropy', n_estimators=120, random_state=123)\n"
     ]
    },
    {
     "data": {
      "image/png": "[encoded data removed]",
      "text/plain": [
       "<Figure size 936x504 with 2 Axes>"
      ]
     },
     "metadata": {
      "needs_background": "light"
     },
     "output_type": "display_data"
    },
    {
     "data": {
      "image/png": "[encoded data removed]",
      "text/plain": [
       "<Figure size 936x504 with 1 Axes>"
      ]
     },
     "metadata": {
      "needs_background": "light"
     },
     "output_type": "display_data"
    },
    {
     "data": {
      "text/html": [
       "<div>\n",
       "<style scoped>\n",
       "    .dataframe tbody tr th:only-of-type {\n",
       "        vertical-align: middle;\n",
       "    }\n",
       "\n",
       "    .dataframe tbody tr th {\n",
       "        vertical-align: top;\n",
       "    }\n",
       "\n",
       "    .dataframe thead th {\n",
       "        text-align: right;\n",
       "    }\n",
       "</style>\n",
       "<table border=\"1\" class=\"dataframe\">\n",
       "  <thead>\n",
       "    <tr style=\"text-align: right;\">\n",
       "      <th>scores</th>\n",
       "      <th>train</th>\n",
       "      <th>test</th>\n",
       "    </tr>\n",
       "  </thead>\n",
       "  <tbody>\n",
       "    <tr>\n",
       "      <th>accuracy</th>\n",
       "      <td>1.0</td>\n",
       "      <td>0.867500</td>\n",
       "    </tr>\n",
       "    <tr>\n",
       "      <th>precision</th>\n",
       "      <td>1.0</td>\n",
       "      <td>0.768939</td>\n",
       "    </tr>\n",
       "    <tr>\n",
       "      <th>recall</th>\n",
       "      <td>1.0</td>\n",
       "      <td>0.498771</td>\n",
       "    </tr>\n",
       "    <tr>\n",
       "      <th>f1</th>\n",
       "      <td>1.0</td>\n",
       "      <td>0.605067</td>\n",
       "    </tr>\n",
       "    <tr>\n",
       "      <th>roc_auc</th>\n",
       "      <td>1.0</td>\n",
       "      <td>0.858336</td>\n",
       "    </tr>\n",
       "    <tr>\n",
       "      <th>matthews_corrcoef</th>\n",
       "      <td>1.0</td>\n",
       "      <td>0.547694</td>\n",
       "    </tr>\n",
       "  </tbody>\n",
       "</table>\n",
       "</div>"
      ],
      "text/plain": [
       "scores             train      test\n",
       "accuracy             1.0  0.867500\n",
       "precision            1.0  0.768939\n",
       "recall               1.0  0.498771\n",
       "f1                   1.0  0.605067\n",
       "roc_auc              1.0  0.858336\n",
       "matthews_corrcoef    1.0  0.547694"
      ]
     },
     "metadata": {},
     "output_type": "display_data"
    }
   ],
   "source": [
    "final_report(best_estimator, X_train, X_test, y_train, y_test);"
   ]
  },
  {
   "cell_type": "markdown",
   "id": "127ada67",
   "metadata": {},
   "source": [
    "The ROC curve of the selected model (Blue curved line) is skewed towards TPR,  \n",
    "Our model is doing significantly better than baseline,  \n",
    "but the other metrics indicate that it is still not production ready:  \n",
    "recall and precision are sub-optimal.\n",
    "\n",
    "Also the test scores are lower than train scores, which means the model is overfit (possibly due to upsampling)."
   ]
  },
  {
   "cell_type": "markdown",
   "id": "ccfd91c5",
   "metadata": {},
   "source": [
    "<br>\n",
    "\n",
    "## Conclusions\n",
    "***\n",
    "[back](#Table-of-Contents)\n",
    "\n",
    "We have processed the dataset (of 10,000 samples), adjusted it for consumption and accounted for target class imbalance.  \n",
    "Random Forest Classifier was the most promising model, but the data was insufficient to make it 'good enough'.  \n",
    "More data should be gathered, and then the model may become production ready."
   ]
  },
  {
   "cell_type": "code",
   "execution_count": null,
   "id": "0cfe6b0a",
   "metadata": {},
   "outputs": [],
   "source": []
  }
 ],
 "metadata": {
  "kernelspec": {
   "display_name": "Python 3",
   "language": "python",
   "name": "python3"
  },
  "language_info": {
   "codemirror_mode": {
    "name": "ipython",
    "version": 3
   },
   "file_extension": ".py",
   "mimetype": "text/x-python",
   "name": "python",
   "nbconvert_exporter": "python",
   "pygments_lexer": "ipython3",
   "version": "3.8.10"
  },
  "toc": {
   "base_numbering": 1,
   "nav_menu": {},
   "number_sections": true,
   "sideBar": true,
   "skip_h1_title": true,
   "title_cell": "Table of Contents",
   "title_sidebar": "Contents",
   "toc_cell": false,
   "toc_position": {},
   "toc_section_display": true,
   "toc_window_display": false
  }
 },
 "nbformat": 4,
 "nbformat_minor": 5
}
